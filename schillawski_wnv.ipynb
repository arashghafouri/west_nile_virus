{
 "cells": [
  {
   "cell_type": "code",
   "execution_count": 39,
   "metadata": {
    "ExecuteTime": {
     "end_time": "2018-02-28T17:23:43.158774Z",
     "start_time": "2018-02-28T17:23:42.806451Z"
    },
    "collapsed": true
   },
   "outputs": [],
   "source": [
    "import numpy as np\n",
    "import pandas as pd\n",
    "import matplotlib.pyplot as plt\n",
    "import seaborn as sns\n",
    "import os\n",
    "import datetime\n",
    "\n",
    "% matplotlib inline"
   ]
  },
  {
   "cell_type": "code",
   "execution_count": 44,
   "metadata": {
    "ExecuteTime": {
     "end_time": "2018-02-28T17:23:53.446070Z",
     "start_time": "2018-02-28T17:23:53.441022Z"
    },
    "collapsed": true
   },
   "outputs": [],
   "source": [
    "#os.chdir('..')"
   ]
  },
  {
   "cell_type": "code",
   "execution_count": 45,
   "metadata": {
    "ExecuteTime": {
     "end_time": "2018-02-28T17:23:54.231439Z",
     "start_time": "2018-02-28T17:23:54.224949Z"
    }
   },
   "outputs": [],
   "source": [
    "path = os.getcwd()\n",
    "path = path + '/assets/input'\n",
    "os.chdir(path)"
   ]
  },
  {
   "cell_type": "code",
   "execution_count": 46,
   "metadata": {
    "ExecuteTime": {
     "end_time": "2018-02-28T17:24:03.061869Z",
     "start_time": "2018-02-28T17:24:02.713075Z"
    }
   },
   "outputs": [
    {
     "name": "stdout",
     "output_type": "stream",
     "text": [
      "mapdata_copyright_openstreetmap_contributors.rds\r\n",
      "mapdata_copyright_openstreetmap_contributors.txt\r\n",
      "noaa_weather_qclcd_documentation.pdf\r\n",
      "sampleSubmission.csv\r\n",
      "spray.csv\r\n",
      "test.csv\r\n",
      "train.csv\r\n",
      "weather.csv\r\n"
     ]
    }
   ],
   "source": [
    "ls"
   ]
  },
  {
   "cell_type": "code",
   "execution_count": 58,
   "metadata": {
    "ExecuteTime": {
     "end_time": "2018-02-28T17:26:02.035842Z",
     "start_time": "2018-02-28T17:26:01.006770Z"
    },
    "collapsed": true
   },
   "outputs": [],
   "source": [
    "train = pd.read_csv('train.csv')\n",
    "spray = pd.read_csv('spray.csv')\n",
    "weather = pd.read_csv('weather.csv')\n",
    "#test = pd.read_csv('test.csv')"
   ]
  },
  {
   "cell_type": "code",
   "execution_count": 70,
   "metadata": {
    "ExecuteTime": {
     "end_time": "2018-02-28T17:30:47.278072Z",
     "start_time": "2018-02-28T17:30:47.267987Z"
    },
    "collapsed": true
   },
   "outputs": [],
   "source": [
    "#test['Date'] = pd.to_datetime(test['Date'])\n",
    "train['Date'] = pd.to_datetime(train['Date'])\n",
    "spray['Date'] = pd.to_datetime(spray['Date'])\n",
    "weather['Date'] = pd.to_datetime(weather['Date'])"
   ]
  },
  {
   "cell_type": "code",
   "execution_count": 75,
   "metadata": {
    "ExecuteTime": {
     "end_time": "2018-02-28T17:40:32.678089Z",
     "start_time": "2018-02-28T17:40:32.671111Z"
    }
   },
   "outputs": [
    {
     "name": "stdout",
     "output_type": "stream",
     "text": [
      "10506\n",
      "14835\n",
      "2944\n"
     ]
    }
   ],
   "source": [
    "print(len(train))\n",
    "print(len(spray))\n",
    "print(len(weather))"
   ]
  },
  {
   "cell_type": "code",
   "execution_count": 66,
   "metadata": {
    "ExecuteTime": {
     "end_time": "2018-02-28T17:28:43.221542Z",
     "start_time": "2018-02-28T17:28:43.210674Z"
    }
   },
   "outputs": [
    {
     "data": {
      "text/plain": [
       "count                   14835\n",
       "unique                     10\n",
       "top       2013-08-15 00:00:00\n",
       "freq                     2668\n",
       "first     2011-08-29 00:00:00\n",
       "last      2013-09-05 00:00:00\n",
       "Name: Date, dtype: object"
      ]
     },
     "execution_count": 66,
     "metadata": {},
     "output_type": "execute_result"
    }
   ],
   "source": [
    "spray['Date'].describe()"
   ]
  },
  {
   "cell_type": "code",
   "execution_count": 67,
   "metadata": {
    "ExecuteTime": {
     "end_time": "2018-02-28T17:28:52.199119Z",
     "start_time": "2018-02-28T17:28:52.188126Z"
    }
   },
   "outputs": [
    {
     "data": {
      "text/plain": [
       "count                   10506\n",
       "unique                     95\n",
       "top       2007-08-01 00:00:00\n",
       "freq                      551\n",
       "first     2007-05-29 00:00:00\n",
       "last      2013-09-26 00:00:00\n",
       "Name: Date, dtype: object"
      ]
     },
     "execution_count": 67,
     "metadata": {},
     "output_type": "execute_result"
    }
   ],
   "source": [
    "train['Date'].describe()"
   ]
  },
  {
   "cell_type": "code",
   "execution_count": 68,
   "metadata": {
    "ExecuteTime": {
     "end_time": "2018-02-28T17:28:56.367728Z",
     "start_time": "2018-02-28T17:28:56.354969Z"
    }
   },
   "outputs": [
    {
     "data": {
      "text/plain": [
       "count                  116293\n",
       "unique                     95\n",
       "top       2012-07-09 00:00:00\n",
       "freq                     1293\n",
       "first     2008-06-11 00:00:00\n",
       "last      2014-10-02 00:00:00\n",
       "Name: Date, dtype: object"
      ]
     },
     "execution_count": 68,
     "metadata": {},
     "output_type": "execute_result"
    }
   ],
   "source": [
    "test['Date'].describe()"
   ]
  },
  {
   "cell_type": "code",
   "execution_count": 71,
   "metadata": {
    "ExecuteTime": {
     "end_time": "2018-02-28T17:30:49.799314Z",
     "start_time": "2018-02-28T17:30:49.788041Z"
    }
   },
   "outputs": [
    {
     "data": {
      "text/plain": [
       "count                    2944\n",
       "unique                   1472\n",
       "top       2014-08-27 00:00:00\n",
       "freq                        2\n",
       "first     2007-05-01 00:00:00\n",
       "last      2014-10-31 00:00:00\n",
       "Name: Date, dtype: object"
      ]
     },
     "execution_count": 71,
     "metadata": {},
     "output_type": "execute_result"
    }
   ],
   "source": [
    "weather['Date'].describe()"
   ]
  },
  {
   "cell_type": "code",
   "execution_count": 48,
   "metadata": {
    "ExecuteTime": {
     "end_time": "2018-02-28T17:24:13.849945Z",
     "start_time": "2018-02-28T17:24:13.818416Z"
    }
   },
   "outputs": [
    {
     "data": {
      "text/html": [
       "<div>\n",
       "<style>\n",
       "    .dataframe thead tr:only-child th {\n",
       "        text-align: right;\n",
       "    }\n",
       "\n",
       "    .dataframe thead th {\n",
       "        text-align: left;\n",
       "    }\n",
       "\n",
       "    .dataframe tbody tr th {\n",
       "        vertical-align: top;\n",
       "    }\n",
       "</style>\n",
       "<table border=\"1\" class=\"dataframe\">\n",
       "  <thead>\n",
       "    <tr style=\"text-align: right;\">\n",
       "      <th></th>\n",
       "      <th>Date</th>\n",
       "      <th>Address</th>\n",
       "      <th>Species</th>\n",
       "      <th>Block</th>\n",
       "      <th>Street</th>\n",
       "      <th>Trap</th>\n",
       "      <th>AddressNumberAndStreet</th>\n",
       "      <th>Latitude</th>\n",
       "      <th>Longitude</th>\n",
       "      <th>AddressAccuracy</th>\n",
       "      <th>NumMosquitos</th>\n",
       "      <th>WnvPresent</th>\n",
       "    </tr>\n",
       "  </thead>\n",
       "  <tbody>\n",
       "    <tr>\n",
       "      <th>0</th>\n",
       "      <td>2007-05-29</td>\n",
       "      <td>4100 North Oak Park Avenue, Chicago, IL 60634,...</td>\n",
       "      <td>CULEX PIPIENS/RESTUANS</td>\n",
       "      <td>41</td>\n",
       "      <td>N OAK PARK AVE</td>\n",
       "      <td>T002</td>\n",
       "      <td>4100  N OAK PARK AVE, Chicago, IL</td>\n",
       "      <td>41.954690</td>\n",
       "      <td>-87.800991</td>\n",
       "      <td>9</td>\n",
       "      <td>1</td>\n",
       "      <td>0</td>\n",
       "    </tr>\n",
       "    <tr>\n",
       "      <th>1</th>\n",
       "      <td>2007-05-29</td>\n",
       "      <td>4100 North Oak Park Avenue, Chicago, IL 60634,...</td>\n",
       "      <td>CULEX RESTUANS</td>\n",
       "      <td>41</td>\n",
       "      <td>N OAK PARK AVE</td>\n",
       "      <td>T002</td>\n",
       "      <td>4100  N OAK PARK AVE, Chicago, IL</td>\n",
       "      <td>41.954690</td>\n",
       "      <td>-87.800991</td>\n",
       "      <td>9</td>\n",
       "      <td>1</td>\n",
       "      <td>0</td>\n",
       "    </tr>\n",
       "    <tr>\n",
       "      <th>2</th>\n",
       "      <td>2007-05-29</td>\n",
       "      <td>6200 North Mandell Avenue, Chicago, IL 60646, USA</td>\n",
       "      <td>CULEX RESTUANS</td>\n",
       "      <td>62</td>\n",
       "      <td>N MANDELL AVE</td>\n",
       "      <td>T007</td>\n",
       "      <td>6200  N MANDELL AVE, Chicago, IL</td>\n",
       "      <td>41.994991</td>\n",
       "      <td>-87.769279</td>\n",
       "      <td>9</td>\n",
       "      <td>1</td>\n",
       "      <td>0</td>\n",
       "    </tr>\n",
       "  </tbody>\n",
       "</table>\n",
       "</div>"
      ],
      "text/plain": [
       "         Date                                            Address  \\\n",
       "0  2007-05-29  4100 North Oak Park Avenue, Chicago, IL 60634,...   \n",
       "1  2007-05-29  4100 North Oak Park Avenue, Chicago, IL 60634,...   \n",
       "2  2007-05-29  6200 North Mandell Avenue, Chicago, IL 60646, USA   \n",
       "\n",
       "                  Species  Block           Street  Trap  \\\n",
       "0  CULEX PIPIENS/RESTUANS     41   N OAK PARK AVE  T002   \n",
       "1          CULEX RESTUANS     41   N OAK PARK AVE  T002   \n",
       "2          CULEX RESTUANS     62    N MANDELL AVE  T007   \n",
       "\n",
       "              AddressNumberAndStreet   Latitude  Longitude  AddressAccuracy  \\\n",
       "0  4100  N OAK PARK AVE, Chicago, IL  41.954690 -87.800991                9   \n",
       "1  4100  N OAK PARK AVE, Chicago, IL  41.954690 -87.800991                9   \n",
       "2   6200  N MANDELL AVE, Chicago, IL  41.994991 -87.769279                9   \n",
       "\n",
       "   NumMosquitos  WnvPresent  \n",
       "0             1           0  \n",
       "1             1           0  \n",
       "2             1           0  "
      ]
     },
     "execution_count": 48,
     "metadata": {},
     "output_type": "execute_result"
    }
   ],
   "source": [
    "train.head(3)"
   ]
  },
  {
   "cell_type": "code",
   "execution_count": 73,
   "metadata": {
    "ExecuteTime": {
     "end_time": "2018-02-28T17:36:42.370103Z",
     "start_time": "2018-02-28T17:36:42.136236Z"
    }
   },
   "outputs": [
    {
     "data": {
      "text/plain": [
       "<matplotlib.collections.PathCollection at 0x10f415e80>"
      ]
     },
     "execution_count": 73,
     "metadata": {},
     "output_type": "execute_result"
    },
    {
     "data": {
      "image/png": "[encoded data removed]",
      "text/plain": [
       "<matplotlib.figure.Figure at 0x10e4a0e10>"
      ]
     },
     "metadata": {},
     "output_type": "display_data"
    }
   ],
   "source": [
    "plt.scatter(train['NumMosquitos'],train['WnvPresent'])"
   ]
  },
  {
   "cell_type": "code",
   "execution_count": 76,
   "metadata": {
    "ExecuteTime": {
     "end_time": "2018-02-28T17:42:54.784575Z",
     "start_time": "2018-02-28T17:42:54.618618Z"
    }
   },
   "outputs": [
    {
     "data": {
      "text/plain": [
       "[<matplotlib.lines.Line2D at 0x1085e9860>]"
      ]
     },
     "execution_count": 76,
     "metadata": {},
     "output_type": "execute_result"
    },
    {
     "data": {
      "image/png": "[encoded data removed]",
      "text/plain": [
       "<matplotlib.figure.Figure at 0x10855e630>"
      ]
     },
     "metadata": {},
     "output_type": "display_data"
    }
   ],
   "source": [
    "plt.plot(train['Date'],train['WnvPresent'])"
   ]
  },
  {
   "cell_type": "code",
   "execution_count": 49,
   "metadata": {
    "ExecuteTime": {
     "end_time": "2018-02-28T17:24:30.636447Z",
     "start_time": "2018-02-28T17:24:30.531885Z"
    }
   },
   "outputs": [
    {
     "data": {
      "text/plain": [
       "CULEX PIPIENS/RESTUANS    4752\n",
       "CULEX RESTUANS            2740\n",
       "CULEX PIPIENS             2699\n",
       "CULEX TERRITANS            222\n",
       "CULEX SALINARIUS            86\n",
       "CULEX TARSALIS               6\n",
       "CULEX ERRATICUS              1\n",
       "Name: Species, dtype: int64"
      ]
     },
     "execution_count": 49,
     "metadata": {},
     "output_type": "execute_result"
    }
   ],
   "source": [
    "train['Species'].value_counts()"
   ]
  },
  {
   "cell_type": "code",
   "execution_count": 50,
   "metadata": {
    "ExecuteTime": {
     "end_time": "2018-02-28T17:24:59.992797Z",
     "start_time": "2018-02-28T17:24:59.980348Z"
    },
    "collapsed": true
   },
   "outputs": [],
   "source": [
    "train['Date'] = pd.to_datetime(train['Date'])"
   ]
  },
  {
   "cell_type": "code",
   "execution_count": 51,
   "metadata": {
    "ExecuteTime": {
     "end_time": "2018-02-28T17:25:00.649423Z",
     "start_time": "2018-02-28T17:25:00.483409Z"
    }
   },
   "outputs": [
    {
     "data": {
      "text/plain": [
       "[<matplotlib.lines.Line2D at 0x107f40710>]"
      ]
     },
     "execution_count": 51,
     "metadata": {},
     "output_type": "execute_result"
    },
    {
     "data": {
      "image/png": "[encoded data removed]",
      "text/plain": [
       "<matplotlib.figure.Figure at 0x10ed5ec88>"
      ]
     },
     "metadata": {},
     "output_type": "display_data"
    }
   ],
   "source": [
    "plt.plot(train[train['Trap']=='T002']['Date'],train[train['Trap']=='T002']['WnvPresent'])"
   ]
  },
  {
   "cell_type": "code",
   "execution_count": 52,
   "metadata": {
    "ExecuteTime": {
     "end_time": "2018-02-28T17:25:01.420715Z",
     "start_time": "2018-02-28T17:25:01.406407Z"
    }
   },
   "outputs": [
    {
     "data": {
      "text/html": [
       "<div>\n",
       "<style>\n",
       "    .dataframe thead tr:only-child th {\n",
       "        text-align: right;\n",
       "    }\n",
       "\n",
       "    .dataframe thead th {\n",
       "        text-align: left;\n",
       "    }\n",
       "\n",
       "    .dataframe tbody tr th {\n",
       "        vertical-align: top;\n",
       "    }\n",
       "</style>\n",
       "<table border=\"1\" class=\"dataframe\">\n",
       "  <thead>\n",
       "    <tr style=\"text-align: right;\">\n",
       "      <th></th>\n",
       "      <th>Date</th>\n",
       "      <th>Time</th>\n",
       "      <th>Latitude</th>\n",
       "      <th>Longitude</th>\n",
       "    </tr>\n",
       "  </thead>\n",
       "  <tbody>\n",
       "    <tr>\n",
       "      <th>0</th>\n",
       "      <td>2011-08-29</td>\n",
       "      <td>6:56:58 PM</td>\n",
       "      <td>42.391623</td>\n",
       "      <td>-88.089163</td>\n",
       "    </tr>\n",
       "    <tr>\n",
       "      <th>1</th>\n",
       "      <td>2011-08-29</td>\n",
       "      <td>6:57:08 PM</td>\n",
       "      <td>42.391348</td>\n",
       "      <td>-88.089163</td>\n",
       "    </tr>\n",
       "    <tr>\n",
       "      <th>2</th>\n",
       "      <td>2011-08-29</td>\n",
       "      <td>6:57:18 PM</td>\n",
       "      <td>42.391022</td>\n",
       "      <td>-88.089157</td>\n",
       "    </tr>\n",
       "  </tbody>\n",
       "</table>\n",
       "</div>"
      ],
      "text/plain": [
       "         Date        Time   Latitude  Longitude\n",
       "0  2011-08-29  6:56:58 PM  42.391623 -88.089163\n",
       "1  2011-08-29  6:57:08 PM  42.391348 -88.089163\n",
       "2  2011-08-29  6:57:18 PM  42.391022 -88.089157"
      ]
     },
     "execution_count": 52,
     "metadata": {},
     "output_type": "execute_result"
    }
   ],
   "source": [
    "spray.head(3)"
   ]
  },
  {
   "cell_type": "code",
   "execution_count": 53,
   "metadata": {
    "ExecuteTime": {
     "end_time": "2018-02-28T17:25:02.722931Z",
     "start_time": "2018-02-28T17:25:02.685707Z"
    }
   },
   "outputs": [
    {
     "data": {
      "text/html": [
       "<div>\n",
       "<style>\n",
       "    .dataframe thead tr:only-child th {\n",
       "        text-align: right;\n",
       "    }\n",
       "\n",
       "    .dataframe thead th {\n",
       "        text-align: left;\n",
       "    }\n",
       "\n",
       "    .dataframe tbody tr th {\n",
       "        vertical-align: top;\n",
       "    }\n",
       "</style>\n",
       "<table border=\"1\" class=\"dataframe\">\n",
       "  <thead>\n",
       "    <tr style=\"text-align: right;\">\n",
       "      <th></th>\n",
       "      <th>Station</th>\n",
       "      <th>Date</th>\n",
       "      <th>Tmax</th>\n",
       "      <th>Tmin</th>\n",
       "      <th>Tavg</th>\n",
       "      <th>Depart</th>\n",
       "      <th>DewPoint</th>\n",
       "      <th>WetBulb</th>\n",
       "      <th>Heat</th>\n",
       "      <th>Cool</th>\n",
       "      <th>...</th>\n",
       "      <th>CodeSum</th>\n",
       "      <th>Depth</th>\n",
       "      <th>Water1</th>\n",
       "      <th>SnowFall</th>\n",
       "      <th>PrecipTotal</th>\n",
       "      <th>StnPressure</th>\n",
       "      <th>SeaLevel</th>\n",
       "      <th>ResultSpeed</th>\n",
       "      <th>ResultDir</th>\n",
       "      <th>AvgSpeed</th>\n",
       "    </tr>\n",
       "  </thead>\n",
       "  <tbody>\n",
       "    <tr>\n",
       "      <th>0</th>\n",
       "      <td>1</td>\n",
       "      <td>2007-05-01</td>\n",
       "      <td>83</td>\n",
       "      <td>50</td>\n",
       "      <td>67</td>\n",
       "      <td>14</td>\n",
       "      <td>51</td>\n",
       "      <td>56</td>\n",
       "      <td>0</td>\n",
       "      <td>2</td>\n",
       "      <td>...</td>\n",
       "      <td></td>\n",
       "      <td>0</td>\n",
       "      <td>M</td>\n",
       "      <td>0.0</td>\n",
       "      <td>0.00</td>\n",
       "      <td>29.10</td>\n",
       "      <td>29.82</td>\n",
       "      <td>1.7</td>\n",
       "      <td>27</td>\n",
       "      <td>9.2</td>\n",
       "    </tr>\n",
       "    <tr>\n",
       "      <th>1</th>\n",
       "      <td>2</td>\n",
       "      <td>2007-05-01</td>\n",
       "      <td>84</td>\n",
       "      <td>52</td>\n",
       "      <td>68</td>\n",
       "      <td>M</td>\n",
       "      <td>51</td>\n",
       "      <td>57</td>\n",
       "      <td>0</td>\n",
       "      <td>3</td>\n",
       "      <td>...</td>\n",
       "      <td></td>\n",
       "      <td>M</td>\n",
       "      <td>M</td>\n",
       "      <td>M</td>\n",
       "      <td>0.00</td>\n",
       "      <td>29.18</td>\n",
       "      <td>29.82</td>\n",
       "      <td>2.7</td>\n",
       "      <td>25</td>\n",
       "      <td>9.6</td>\n",
       "    </tr>\n",
       "    <tr>\n",
       "      <th>2</th>\n",
       "      <td>1</td>\n",
       "      <td>2007-05-02</td>\n",
       "      <td>59</td>\n",
       "      <td>42</td>\n",
       "      <td>51</td>\n",
       "      <td>-3</td>\n",
       "      <td>42</td>\n",
       "      <td>47</td>\n",
       "      <td>14</td>\n",
       "      <td>0</td>\n",
       "      <td>...</td>\n",
       "      <td>BR</td>\n",
       "      <td>0</td>\n",
       "      <td>M</td>\n",
       "      <td>0.0</td>\n",
       "      <td>0.00</td>\n",
       "      <td>29.38</td>\n",
       "      <td>30.09</td>\n",
       "      <td>13.0</td>\n",
       "      <td>4</td>\n",
       "      <td>13.4</td>\n",
       "    </tr>\n",
       "  </tbody>\n",
       "</table>\n",
       "<p>3 rows × 22 columns</p>\n",
       "</div>"
      ],
      "text/plain": [
       "   Station        Date  Tmax  Tmin Tavg Depart  DewPoint WetBulb Heat Cool  \\\n",
       "0        1  2007-05-01    83    50   67     14        51      56    0    2   \n",
       "1        2  2007-05-01    84    52   68      M        51      57    0    3   \n",
       "2        1  2007-05-02    59    42   51     -3        42      47   14    0   \n",
       "\n",
       "     ...    CodeSum Depth Water1 SnowFall PrecipTotal StnPressure SeaLevel  \\\n",
       "0    ...                0      M      0.0        0.00       29.10    29.82   \n",
       "1    ...                M      M        M        0.00       29.18    29.82   \n",
       "2    ...         BR     0      M      0.0        0.00       29.38    30.09   \n",
       "\n",
       "  ResultSpeed ResultDir  AvgSpeed  \n",
       "0         1.7        27       9.2  \n",
       "1         2.7        25       9.6  \n",
       "2        13.0         4      13.4  \n",
       "\n",
       "[3 rows x 22 columns]"
      ]
     },
     "execution_count": 53,
     "metadata": {},
     "output_type": "execute_result"
    }
   ],
   "source": [
    "weather.head(3)"
   ]
  },
  {
   "cell_type": "code",
   "execution_count": 54,
   "metadata": {
    "ExecuteTime": {
     "end_time": "2018-02-28T17:25:04.537427Z",
     "start_time": "2018-02-28T17:25:04.509984Z"
    },
    "collapsed": true
   },
   "outputs": [],
   "source": [
    "def DataInspect(dataframe):\n",
    "    '''Original function (previously called eda) created by Ritika Bhasker\n",
    "       Good first step when starting any project. Provides overview of\n",
    "       dataset including missing values, duplicates and types.\n",
    "       Takes a Pandas dataframe as the argument.\n",
    "       Modified by Michael Schillawski based on his preferences.'''\n",
    "    print(\"Dataframe Shape:\", dataframe.shape,\"\\n\")\n",
    "    print(\"Duplicate Rows:\", dataframe.duplicated().sum(),\"\\n\") #Added this\n",
    "    print(\"Dataframe Types \\n\\n\", dataframe.dtypes,\"\\n\")    \n",
    "    print(\"Missing Values \\n\\n\", dataframe.isnull().sum(),\"\\n\")\n",
    "    print(\"Dataframe Describe \\n\\n\", dataframe.describe(include='all'),\"\\n\")\n",
    "\n",
    "\n",
    "    print('Unique Values by Variable')\n",
    "    for item in dataframe:\n",
    "        print(item,':',dataframe[item].nunique())"
   ]
  },
  {
   "cell_type": "code",
   "execution_count": 55,
   "metadata": {
    "ExecuteTime": {
     "end_time": "2018-02-28T17:25:09.502928Z",
     "start_time": "2018-02-28T17:25:09.269940Z"
    }
   },
   "outputs": [
    {
     "name": "stdout",
     "output_type": "stream",
     "text": [
      "Dataframe Shape: (10506, 12) \n",
      "\n",
      "Duplicate Rows: 813 \n",
      "\n",
      "Dataframe Types \n",
      "\n",
      " Date                      datetime64[ns]\n",
      "Address                           object\n",
      "Species                           object\n",
      "Block                              int64\n",
      "Street                            object\n",
      "Trap                              object\n",
      "AddressNumberAndStreet            object\n",
      "Latitude                         float64\n",
      "Longitude                        float64\n",
      "AddressAccuracy                    int64\n",
      "NumMosquitos                       int64\n",
      "WnvPresent                         int64\n",
      "dtype: object \n",
      "\n",
      "Missing Values \n",
      "\n",
      " Date                      0\n",
      "Address                   0\n",
      "Species                   0\n",
      "Block                     0\n",
      "Street                    0\n",
      "Trap                      0\n",
      "AddressNumberAndStreet    0\n",
      "Latitude                  0\n",
      "Longitude                 0\n",
      "AddressAccuracy           0\n",
      "NumMosquitos              0\n",
      "WnvPresent                0\n",
      "dtype: int64 \n",
      "\n",
      "Dataframe Describe \n",
      "\n",
      "                        Date  \\\n",
      "count                 10506   \n",
      "unique                   95   \n",
      "top     2007-08-01 00:00:00   \n",
      "freq                    551   \n",
      "first   2007-05-29 00:00:00   \n",
      "last    2013-09-26 00:00:00   \n",
      "mean                    NaN   \n",
      "std                     NaN   \n",
      "min                     NaN   \n",
      "25%                     NaN   \n",
      "50%                     NaN   \n",
      "75%                     NaN   \n",
      "max                     NaN   \n",
      "\n",
      "                                                  Address  \\\n",
      "count                                               10506   \n",
      "unique                                                138   \n",
      "top     ORD Terminal 5, O'Hare International Airport, ...   \n",
      "freq                                                  750   \n",
      "first                                                 NaN   \n",
      "last                                                  NaN   \n",
      "mean                                                  NaN   \n",
      "std                                                   NaN   \n",
      "min                                                   NaN   \n",
      "25%                                                   NaN   \n",
      "50%                                                   NaN   \n",
      "75%                                                   NaN   \n",
      "max                                                   NaN   \n",
      "\n",
      "                       Species         Block            Street   Trap  \\\n",
      "count                    10506  10506.000000             10506  10506   \n",
      "unique                       7           NaN               128    136   \n",
      "top     CULEX PIPIENS/RESTUANS           NaN   W OHARE AIRPORT   T900   \n",
      "freq                      4752           NaN               750    750   \n",
      "first                      NaN           NaN               NaN    NaN   \n",
      "last                       NaN           NaN               NaN    NaN   \n",
      "mean                       NaN     35.687797               NaN    NaN   \n",
      "std                        NaN     24.339468               NaN    NaN   \n",
      "min                        NaN     10.000000               NaN    NaN   \n",
      "25%                        NaN     12.000000               NaN    NaN   \n",
      "50%                        NaN     33.000000               NaN    NaN   \n",
      "75%                        NaN     52.000000               NaN    NaN   \n",
      "max                        NaN     98.000000               NaN    NaN   \n",
      "\n",
      "                    AddressNumberAndStreet      Latitude     Longitude  \\\n",
      "count                                10506  10506.000000  10506.000000   \n",
      "unique                                 138           NaN           NaN   \n",
      "top     1000  W OHARE AIRPORT, Chicago, IL           NaN           NaN   \n",
      "freq                                   750           NaN           NaN   \n",
      "first                                  NaN           NaN           NaN   \n",
      "last                                   NaN           NaN           NaN   \n",
      "mean                                   NaN     41.841139    -87.699908   \n",
      "std                                    NaN      0.112742      0.096514   \n",
      "min                                    NaN     41.644612    -87.930995   \n",
      "25%                                    NaN     41.732984    -87.760070   \n",
      "50%                                    NaN     41.846283    -87.694991   \n",
      "75%                                    NaN     41.954690    -87.627796   \n",
      "max                                    NaN     42.017430    -87.531635   \n",
      "\n",
      "        AddressAccuracy  NumMosquitos    WnvPresent  \n",
      "count      10506.000000  10506.000000  10506.000000  \n",
      "unique              NaN           NaN           NaN  \n",
      "top                 NaN           NaN           NaN  \n",
      "freq                NaN           NaN           NaN  \n",
      "first               NaN           NaN           NaN  \n",
      "last                NaN           NaN           NaN  \n",
      "mean           7.819532     12.853512      0.052446  \n",
      "std            1.452921     16.133816      0.222936  \n",
      "min            3.000000      1.000000      0.000000  \n",
      "25%            8.000000      2.000000      0.000000  \n",
      "50%            8.000000      5.000000      0.000000  \n",
      "75%            9.000000     17.000000      0.000000  \n",
      "max            9.000000     50.000000      1.000000   \n",
      "\n",
      "Unique Values by Variable\n",
      "Date : 95\n",
      "Address : 138\n",
      "Species : 7\n",
      "Block : 64\n",
      "Street : 128\n",
      "Trap : 136\n",
      "AddressNumberAndStreet : 138\n",
      "Latitude : 138\n",
      "Longitude : 138\n",
      "AddressAccuracy : 4\n",
      "NumMosquitos : 50\n",
      "WnvPresent : 2\n"
     ]
    }
   ],
   "source": [
    "DataInspect(train)"
   ]
  },
  {
   "cell_type": "code",
   "execution_count": 56,
   "metadata": {
    "ExecuteTime": {
     "end_time": "2018-02-28T17:25:10.034763Z",
     "start_time": "2018-02-28T17:25:09.926031Z"
    }
   },
   "outputs": [
    {
     "name": "stdout",
     "output_type": "stream",
     "text": [
      "Dataframe Shape: (14835, 4) \n",
      "\n",
      "Duplicate Rows: 541 \n",
      "\n",
      "Dataframe Types \n",
      "\n",
      " Date          object\n",
      "Time          object\n",
      "Latitude     float64\n",
      "Longitude    float64\n",
      "dtype: object \n",
      "\n",
      "Missing Values \n",
      "\n",
      " Date           0\n",
      "Time         584\n",
      "Latitude       0\n",
      "Longitude      0\n",
      "dtype: int64 \n",
      "\n",
      "Dataframe Describe \n",
      "\n",
      "               Date        Time      Latitude     Longitude\n",
      "count        14835       14251  14835.000000  14835.000000\n",
      "unique          10        8583           NaN           NaN\n",
      "top     2013-08-15  7:44:32 PM           NaN           NaN\n",
      "freq          2668         541           NaN           NaN\n",
      "mean           NaN         NaN     41.904828    -87.736690\n",
      "std            NaN         NaN      0.104381      0.067292\n",
      "min            NaN         NaN     41.713925    -88.096468\n",
      "25%            NaN         NaN     41.785001    -87.794225\n",
      "50%            NaN         NaN     41.940075    -87.727853\n",
      "75%            NaN         NaN     41.980978    -87.694108\n",
      "max            NaN         NaN     42.395983    -87.586727 \n",
      "\n",
      "Unique Values by Variable\n",
      "Date : 10\n",
      "Time : 8583\n",
      "Latitude : 12887\n",
      "Longitude : 13007\n"
     ]
    }
   ],
   "source": [
    "DataInspect(spray)"
   ]
  },
  {
   "cell_type": "code",
   "execution_count": 57,
   "metadata": {
    "ExecuteTime": {
     "end_time": "2018-02-28T17:25:11.092003Z",
     "start_time": "2018-02-28T17:25:10.853808Z"
    }
   },
   "outputs": [
    {
     "name": "stdout",
     "output_type": "stream",
     "text": [
      "Dataframe Shape: (2944, 22) \n",
      "\n",
      "Duplicate Rows: 0 \n",
      "\n",
      "Dataframe Types \n",
      "\n",
      " Station          int64\n",
      "Date            object\n",
      "Tmax             int64\n",
      "Tmin             int64\n",
      "Tavg            object\n",
      "Depart          object\n",
      "DewPoint         int64\n",
      "WetBulb         object\n",
      "Heat            object\n",
      "Cool            object\n",
      "Sunrise         object\n",
      "Sunset          object\n",
      "CodeSum         object\n",
      "Depth           object\n",
      "Water1          object\n",
      "SnowFall        object\n",
      "PrecipTotal     object\n",
      "StnPressure     object\n",
      "SeaLevel        object\n",
      "ResultSpeed    float64\n",
      "ResultDir        int64\n",
      "AvgSpeed        object\n",
      "dtype: object \n",
      "\n",
      "Missing Values \n",
      "\n",
      " Station        0\n",
      "Date           0\n",
      "Tmax           0\n",
      "Tmin           0\n",
      "Tavg           0\n",
      "Depart         0\n",
      "DewPoint       0\n",
      "WetBulb        0\n",
      "Heat           0\n",
      "Cool           0\n",
      "Sunrise        0\n",
      "Sunset         0\n",
      "CodeSum        0\n",
      "Depth          0\n",
      "Water1         0\n",
      "SnowFall       0\n",
      "PrecipTotal    0\n",
      "StnPressure    0\n",
      "SeaLevel       0\n",
      "ResultSpeed    0\n",
      "ResultDir      0\n",
      "AvgSpeed       0\n",
      "dtype: int64 \n",
      "\n",
      "Dataframe Describe \n",
      "\n",
      "             Station        Date         Tmax         Tmin  Tavg Depart  \\\n",
      "count   2944.000000        2944  2944.000000  2944.000000  2944   2944   \n",
      "unique          NaN        1472          NaN          NaN    60     42   \n",
      "top             NaN  2009-08-21          NaN          NaN    73      M   \n",
      "freq            NaN           2          NaN          NaN   138   1472   \n",
      "mean       1.500000         NaN    76.166101    57.810462   NaN    NaN   \n",
      "std        0.500085         NaN    11.461970    10.381939   NaN    NaN   \n",
      "min        1.000000         NaN    41.000000    29.000000   NaN    NaN   \n",
      "25%        1.000000         NaN    69.000000    50.000000   NaN    NaN   \n",
      "50%        1.500000         NaN    78.000000    59.000000   NaN    NaN   \n",
      "75%        2.000000         NaN    85.000000    66.000000   NaN    NaN   \n",
      "max        2.000000         NaN   104.000000    83.000000   NaN    NaN   \n",
      "\n",
      "           DewPoint WetBulb  Heat  Cool    ...    CodeSum Depth Water1  \\\n",
      "count   2944.000000    2944  2944  2944    ...       2944  2944   2944   \n",
      "unique          NaN      48    31    31    ...         98     2      1   \n",
      "top             NaN      63     0     0    ...                0      M   \n",
      "freq            NaN     135  1870  1147    ...       1609  1472   2944   \n",
      "mean      53.457880     NaN   NaN   NaN    ...        NaN   NaN    NaN   \n",
      "std       10.675181     NaN   NaN   NaN    ...        NaN   NaN    NaN   \n",
      "min       22.000000     NaN   NaN   NaN    ...        NaN   NaN    NaN   \n",
      "25%       46.000000     NaN   NaN   NaN    ...        NaN   NaN    NaN   \n",
      "50%       54.000000     NaN   NaN   NaN    ...        NaN   NaN    NaN   \n",
      "75%       62.000000     NaN   NaN   NaN    ...        NaN   NaN    NaN   \n",
      "max       75.000000     NaN   NaN   NaN    ...        NaN   NaN    NaN   \n",
      "\n",
      "       SnowFall PrecipTotal StnPressure SeaLevel  ResultSpeed    ResultDir  \\\n",
      "count      2944        2944        2944     2944  2944.000000  2944.000000   \n",
      "unique        4         168         104      102          NaN          NaN   \n",
      "top           M        0.00       29.34    30.00          NaN          NaN   \n",
      "freq       1472        1577         128       96          NaN          NaN   \n",
      "mean        NaN         NaN         NaN      NaN     6.960666    17.494905   \n",
      "std         NaN         NaN         NaN      NaN     3.587527    10.063609   \n",
      "min         NaN         NaN         NaN      NaN     0.100000     1.000000   \n",
      "25%         NaN         NaN         NaN      NaN     4.300000     7.000000   \n",
      "50%         NaN         NaN         NaN      NaN     6.400000    19.000000   \n",
      "75%         NaN         NaN         NaN      NaN     9.200000    25.000000   \n",
      "max         NaN         NaN         NaN      NaN    24.100000    36.000000   \n",
      "\n",
      "        AvgSpeed  \n",
      "count       2944  \n",
      "unique       178  \n",
      "top          6.9  \n",
      "freq          63  \n",
      "mean         NaN  \n",
      "std          NaN  \n",
      "min          NaN  \n",
      "25%          NaN  \n",
      "50%          NaN  \n",
      "75%          NaN  \n",
      "max          NaN  \n",
      "\n",
      "[11 rows x 22 columns] \n",
      "\n",
      "Unique Values by Variable\n",
      "Station : 2\n",
      "Date : 1472\n",
      "Tmax : 63\n",
      "Tmin : 54\n",
      "Tavg : 60\n",
      "Depart : 42\n",
      "DewPoint : 54\n",
      "WetBulb : 48\n",
      "Heat : 31\n",
      "Cool : 31\n",
      "Sunrise : 122\n",
      "Sunset : 119\n",
      "CodeSum : 98\n",
      "Depth : 2\n",
      "Water1 : 1\n",
      "SnowFall : 4\n",
      "PrecipTotal : 168\n",
      "StnPressure : 104\n",
      "SeaLevel : 102\n",
      "ResultSpeed : 190\n",
      "ResultDir : 36\n",
      "AvgSpeed : 178\n"
     ]
    }
   ],
   "source": [
    "DataInspect(weather)"
   ]
  },
  {
   "cell_type": "code",
   "execution_count": null,
   "metadata": {
    "collapsed": true
   },
   "outputs": [],
   "source": []
  }
 ],
 "metadata": {
  "kernelspec": {
   "display_name": "Python [conda env:anaconda3]",
   "language": "python",
   "name": "conda-env-anaconda3-py"
  },
  "language_info": {
   "codemirror_mode": {
    "name": "ipython",
    "version": 3
   },
   "file_extension": ".py",
   "mimetype": "text/x-python",
   "name": "python",
   "nbconvert_exporter": "python",
   "pygments_lexer": "ipython3",
   "version": "3.6.4"
  }
 },
 "nbformat": 4,
 "nbformat_minor": 2
}
