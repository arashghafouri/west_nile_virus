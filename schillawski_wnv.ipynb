{
 "cells": [
  {
   "cell_type": "markdown",
   "metadata": {},
   "source": [
    "# Project 4: West Nile Virus in the City of Chicago\n",
    "\n",
    "Michael Schillawski, 9 March 2018\n",
    "\n",
    "Data Science Immersive, General Assembly"
   ]
  },
  {
   "cell_type": "markdown",
   "metadata": {},
   "source": [
    "## Setup"
   ]
  },
  {
   "cell_type": "markdown",
   "metadata": {},
   "source": [
    "### Import"
   ]
  },
  {
   "cell_type": "code",
   "execution_count": 2,
   "metadata": {
    "ExecuteTime": {
     "end_time": "2018-03-02T21:06:48.433179Z",
     "start_time": "2018-03-02T21:06:48.422979Z"
    }
   },
   "outputs": [],
   "source": [
    "import numpy as np\n",
    "import pandas as pd\n",
    "import matplotlib.pyplot as plt\n",
    "import seaborn as sns\n",
    "import os\n",
    "import datetime\n",
    "import pandas_profiling as pdp\n",
    "\n",
    "% matplotlib inline"
   ]
  },
  {
   "cell_type": "markdown",
   "metadata": {},
   "source": [
    "### Gather Data"
   ]
  },
  {
   "cell_type": "code",
   "execution_count": null,
   "metadata": {
    "ExecuteTime": {
     "end_time": "2018-02-28T17:23:53.446070Z",
     "start_time": "2018-02-28T17:23:53.441022Z"
    },
    "collapsed": true
   },
   "outputs": [],
   "source": [
    "#os.chdir('..')"
   ]
  },
  {
   "cell_type": "code",
   "execution_count": 3,
   "metadata": {
    "ExecuteTime": {
     "end_time": "2018-03-02T21:06:52.126367Z",
     "start_time": "2018-03-02T21:06:52.110617Z"
    },
    "collapsed": true
   },
   "outputs": [],
   "source": [
    "path = os.getcwd()\n",
    "path = path + '/assets/input'\n",
    "os.chdir(path)"
   ]
  },
  {
   "cell_type": "code",
   "execution_count": 4,
   "metadata": {
    "ExecuteTime": {
     "end_time": "2018-03-02T21:06:55.377763Z",
     "start_time": "2018-03-02T21:06:55.102110Z"
    }
   },
   "outputs": [
    {
     "name": "stdout",
     "output_type": "stream",
     "text": [
      "mapdata_copyright_openstreetmap_contributors.rds\r\n",
      "mapdata_copyright_openstreetmap_contributors.txt\r\n",
      "noaa_weather_qclcd_documentation.pdf\r\n",
      "sampleSubmission.csv\r\n",
      "spray.csv\r\n",
      "test.csv\r\n",
      "train.csv\r\n",
      "weather.csv\r\n"
     ]
    }
   ],
   "source": [
    "ls"
   ]
  },
  {
   "cell_type": "code",
   "execution_count": 5,
   "metadata": {
    "ExecuteTime": {
     "end_time": "2018-03-02T21:07:13.159059Z",
     "start_time": "2018-03-02T21:07:12.416065Z"
    },
    "collapsed": true
   },
   "outputs": [],
   "source": [
    "train = pd.read_csv('train.csv')\n",
    "spray = pd.read_csv('spray.csv')\n",
    "weather = pd.read_csv('weather.csv')\n",
    "#test = pd.read_csv('test.csv')"
   ]
  },
  {
   "cell_type": "markdown",
   "metadata": {},
   "source": [
    "## Data Cleaning"
   ]
  },
  {
   "cell_type": "markdown",
   "metadata": {
    "ExecuteTime": {
     "end_time": "2018-02-28T21:18:04.157766Z",
     "start_time": "2018-02-28T21:18:04.154294Z"
    }
   },
   "source": [
    "### Formatting & DeDuping"
   ]
  },
  {
   "cell_type": "markdown",
   "metadata": {},
   "source": [
    "#### Inspecting"
   ]
  },
  {
   "cell_type": "code",
   "execution_count": 6,
   "metadata": {
    "ExecuteTime": {
     "end_time": "2018-03-02T21:07:26.706904Z",
     "start_time": "2018-03-02T21:07:26.671690Z"
    },
    "collapsed": true
   },
   "outputs": [],
   "source": [
    "def DataInspect(dataframe):\n",
    "    '''Original function (previously called eda) created by Ritika Bhasker\n",
    "       Good first step when starting any project. Provides overview of\n",
    "       dataset including missing values, duplicates and types.\n",
    "       Takes a Pandas dataframe as the argument.\n",
    "       Modified by Michael Schillawski based on his preferences.'''\n",
    "    print(\"Dataframe Shape:\", dataframe.shape,\"\\n\")\n",
    "    print(\"Duplicate Rows:\", dataframe.duplicated().sum(),\"\\n\") #Added this\n",
    "    print(\"Dataframe Types \\n\\n\", dataframe.dtypes,\"\\n\")    \n",
    "    print(\"Missing Values \\n\\n\", dataframe.isnull().sum(),\"\\n\")\n",
    "    print(\"Dataframe Describe \\n\\n\", dataframe.describe(include='all'),\"\\n\")\n",
    "\n",
    "\n",
    "    print('Unique Values by Variable')\n",
    "    for item in dataframe:\n",
    "        print(item,':',dataframe[item].nunique())"
   ]
  },
  {
   "cell_type": "code",
   "execution_count": 11,
   "metadata": {
    "ExecuteTime": {
     "end_time": "2018-03-02T21:07:52.442988Z",
     "start_time": "2018-03-02T21:07:52.279125Z"
    }
   },
   "outputs": [
    {
     "name": "stdout",
     "output_type": "stream",
     "text": [
      "Dataframe Shape: (10506, 12) \n",
      "\n",
      "Duplicate Rows: 813 \n",
      "\n",
      "Dataframe Types \n",
      "\n",
      " Date                      datetime64[ns]\n",
      "Address                           object\n",
      "Species                           object\n",
      "Block                              int64\n",
      "Street                            object\n",
      "Trap                              object\n",
      "AddressNumberAndStreet            object\n",
      "Latitude                         float64\n",
      "Longitude                        float64\n",
      "AddressAccuracy                    int64\n",
      "NumMosquitos                       int64\n",
      "WnvPresent                         int64\n",
      "dtype: object \n",
      "\n",
      "Missing Values \n",
      "\n",
      " Date                      0\n",
      "Address                   0\n",
      "Species                   0\n",
      "Block                     0\n",
      "Street                    0\n",
      "Trap                      0\n",
      "AddressNumberAndStreet    0\n",
      "Latitude                  0\n",
      "Longitude                 0\n",
      "AddressAccuracy           0\n",
      "NumMosquitos              0\n",
      "WnvPresent                0\n",
      "dtype: int64 \n",
      "\n",
      "Dataframe Describe \n",
      "\n",
      "                        Date  \\\n",
      "count                 10506   \n",
      "unique                   95   \n",
      "top     2007-08-01 00:00:00   \n",
      "freq                    551   \n",
      "first   2007-05-29 00:00:00   \n",
      "last    2013-09-26 00:00:00   \n",
      "mean                    NaN   \n",
      "std                     NaN   \n",
      "min                     NaN   \n",
      "25%                     NaN   \n",
      "50%                     NaN   \n",
      "75%                     NaN   \n",
      "max                     NaN   \n",
      "\n",
      "                                                  Address  \\\n",
      "count                                               10506   \n",
      "unique                                                138   \n",
      "top     ORD Terminal 5, O'Hare International Airport, ...   \n",
      "freq                                                  750   \n",
      "first                                                 NaN   \n",
      "last                                                  NaN   \n",
      "mean                                                  NaN   \n",
      "std                                                   NaN   \n",
      "min                                                   NaN   \n",
      "25%                                                   NaN   \n",
      "50%                                                   NaN   \n",
      "75%                                                   NaN   \n",
      "max                                                   NaN   \n",
      "\n",
      "                       Species         Block            Street   Trap  \\\n",
      "count                    10506  10506.000000             10506  10506   \n",
      "unique                       7           NaN               128    136   \n",
      "top     CULEX PIPIENS/RESTUANS           NaN   W OHARE AIRPORT   T900   \n",
      "freq                      4752           NaN               750    750   \n",
      "first                      NaN           NaN               NaN    NaN   \n",
      "last                       NaN           NaN               NaN    NaN   \n",
      "mean                       NaN     35.687797               NaN    NaN   \n",
      "std                        NaN     24.339468               NaN    NaN   \n",
      "min                        NaN     10.000000               NaN    NaN   \n",
      "25%                        NaN     12.000000               NaN    NaN   \n",
      "50%                        NaN     33.000000               NaN    NaN   \n",
      "75%                        NaN     52.000000               NaN    NaN   \n",
      "max                        NaN     98.000000               NaN    NaN   \n",
      "\n",
      "                    AddressNumberAndStreet      Latitude     Longitude  \\\n",
      "count                                10506  10506.000000  10506.000000   \n",
      "unique                                 138           NaN           NaN   \n",
      "top     1000  W OHARE AIRPORT, Chicago, IL           NaN           NaN   \n",
      "freq                                   750           NaN           NaN   \n",
      "first                                  NaN           NaN           NaN   \n",
      "last                                   NaN           NaN           NaN   \n",
      "mean                                   NaN     41.841139    -87.699908   \n",
      "std                                    NaN      0.112742      0.096514   \n",
      "min                                    NaN     41.644612    -87.930995   \n",
      "25%                                    NaN     41.732984    -87.760070   \n",
      "50%                                    NaN     41.846283    -87.694991   \n",
      "75%                                    NaN     41.954690    -87.627796   \n",
      "max                                    NaN     42.017430    -87.531635   \n",
      "\n",
      "        AddressAccuracy  NumMosquitos    WnvPresent  \n",
      "count      10506.000000  10506.000000  10506.000000  \n",
      "unique              NaN           NaN           NaN  \n",
      "top                 NaN           NaN           NaN  \n",
      "freq                NaN           NaN           NaN  \n",
      "first               NaN           NaN           NaN  \n",
      "last                NaN           NaN           NaN  \n",
      "mean           7.819532     12.853512      0.052446  \n",
      "std            1.452921     16.133816      0.222936  \n",
      "min            3.000000      1.000000      0.000000  \n",
      "25%            8.000000      2.000000      0.000000  \n",
      "50%            8.000000      5.000000      0.000000  \n",
      "75%            9.000000     17.000000      0.000000  \n",
      "max            9.000000     50.000000      1.000000   \n",
      "\n",
      "Unique Values by Variable\n",
      "Date : 95\n",
      "Address : 138\n",
      "Species : 7\n",
      "Block : 64\n",
      "Street : 128\n",
      "Trap : 136\n",
      "AddressNumberAndStreet : 138\n",
      "Latitude : 138\n",
      "Longitude : 138\n",
      "AddressAccuracy : 4\n",
      "NumMosquitos : 50\n",
      "WnvPresent : 2\n"
     ]
    }
   ],
   "source": [
    "DataInspect(train)"
   ]
  },
  {
   "cell_type": "code",
   "execution_count": 12,
   "metadata": {
    "ExecuteTime": {
     "end_time": "2018-03-02T21:07:53.430163Z",
     "start_time": "2018-03-02T21:07:53.376028Z"
    }
   },
   "outputs": [
    {
     "name": "stdout",
     "output_type": "stream",
     "text": [
      "Dataframe Shape: (14835, 4) \n",
      "\n",
      "Duplicate Rows: 541 \n",
      "\n",
      "Dataframe Types \n",
      "\n",
      " Date         datetime64[ns]\n",
      "Time                 object\n",
      "Latitude            float64\n",
      "Longitude           float64\n",
      "dtype: object \n",
      "\n",
      "Missing Values \n",
      "\n",
      " Date           0\n",
      "Time         584\n",
      "Latitude       0\n",
      "Longitude      0\n",
      "dtype: int64 \n",
      "\n",
      "Dataframe Describe \n",
      "\n",
      "                        Date        Time      Latitude     Longitude\n",
      "count                 14835       14251  14835.000000  14835.000000\n",
      "unique                   10        8583           NaN           NaN\n",
      "top     2013-08-15 00:00:00  7:44:32 PM           NaN           NaN\n",
      "freq                   2668         541           NaN           NaN\n",
      "first   2011-08-29 00:00:00         NaN           NaN           NaN\n",
      "last    2013-09-05 00:00:00         NaN           NaN           NaN\n",
      "mean                    NaN         NaN     41.904828    -87.736690\n",
      "std                     NaN         NaN      0.104381      0.067292\n",
      "min                     NaN         NaN     41.713925    -88.096468\n",
      "25%                     NaN         NaN     41.785001    -87.794225\n",
      "50%                     NaN         NaN     41.940075    -87.727853\n",
      "75%                     NaN         NaN     41.980978    -87.694108\n",
      "max                     NaN         NaN     42.395983    -87.586727 \n",
      "\n",
      "Unique Values by Variable\n",
      "Date : 10\n",
      "Time : 8583\n",
      "Latitude : 12887\n",
      "Longitude : 13007\n"
     ]
    }
   ],
   "source": [
    "DataInspect(spray)"
   ]
  },
  {
   "cell_type": "code",
   "execution_count": 13,
   "metadata": {
    "ExecuteTime": {
     "end_time": "2018-03-02T21:07:54.160953Z",
     "start_time": "2018-03-02T21:07:54.026811Z"
    }
   },
   "outputs": [
    {
     "name": "stdout",
     "output_type": "stream",
     "text": [
      "Dataframe Shape: (2944, 22) \n",
      "\n",
      "Duplicate Rows: 0 \n",
      "\n",
      "Dataframe Types \n",
      "\n",
      " Station                 int64\n",
      "Date           datetime64[ns]\n",
      "Tmax                    int64\n",
      "Tmin                    int64\n",
      "Tavg                   object\n",
      "Depart                 object\n",
      "DewPoint                int64\n",
      "WetBulb                object\n",
      "Heat                   object\n",
      "Cool                   object\n",
      "Sunrise                object\n",
      "Sunset                 object\n",
      "CodeSum                object\n",
      "Depth                  object\n",
      "Water1                 object\n",
      "SnowFall               object\n",
      "PrecipTotal            object\n",
      "StnPressure            object\n",
      "SeaLevel               object\n",
      "ResultSpeed           float64\n",
      "ResultDir               int64\n",
      "AvgSpeed               object\n",
      "dtype: object \n",
      "\n",
      "Missing Values \n",
      "\n",
      " Station        0\n",
      "Date           0\n",
      "Tmax           0\n",
      "Tmin           0\n",
      "Tavg           0\n",
      "Depart         0\n",
      "DewPoint       0\n",
      "WetBulb        0\n",
      "Heat           0\n",
      "Cool           0\n",
      "Sunrise        0\n",
      "Sunset         0\n",
      "CodeSum        0\n",
      "Depth          0\n",
      "Water1         0\n",
      "SnowFall       0\n",
      "PrecipTotal    0\n",
      "StnPressure    0\n",
      "SeaLevel       0\n",
      "ResultSpeed    0\n",
      "ResultDir      0\n",
      "AvgSpeed       0\n",
      "dtype: int64 \n",
      "\n",
      "Dataframe Describe \n",
      "\n",
      "             Station                 Date         Tmax         Tmin  Tavg  \\\n",
      "count   2944.000000                 2944  2944.000000  2944.000000  2944   \n",
      "unique          NaN                 1472          NaN          NaN    60   \n",
      "top             NaN  2014-08-27 00:00:00          NaN          NaN    73   \n",
      "freq            NaN                    2          NaN          NaN   138   \n",
      "first           NaN  2007-05-01 00:00:00          NaN          NaN   NaN   \n",
      "last            NaN  2014-10-31 00:00:00          NaN          NaN   NaN   \n",
      "mean       1.500000                  NaN    76.166101    57.810462   NaN   \n",
      "std        0.500085                  NaN    11.461970    10.381939   NaN   \n",
      "min        1.000000                  NaN    41.000000    29.000000   NaN   \n",
      "25%        1.000000                  NaN    69.000000    50.000000   NaN   \n",
      "50%        1.500000                  NaN    78.000000    59.000000   NaN   \n",
      "75%        2.000000                  NaN    85.000000    66.000000   NaN   \n",
      "max        2.000000                  NaN   104.000000    83.000000   NaN   \n",
      "\n",
      "       Depart     DewPoint WetBulb  Heat  Cool    ...    CodeSum Depth Water1  \\\n",
      "count    2944  2944.000000    2944  2944  2944    ...       2944  2944   2944   \n",
      "unique     42          NaN      48    31    31    ...         98     2      1   \n",
      "top         M          NaN      63     0     0    ...                0      M   \n",
      "freq     1472          NaN     135  1870  1147    ...       1609  1472   2944   \n",
      "first     NaN          NaN     NaN   NaN   NaN    ...        NaN   NaN    NaN   \n",
      "last      NaN          NaN     NaN   NaN   NaN    ...        NaN   NaN    NaN   \n",
      "mean      NaN    53.457880     NaN   NaN   NaN    ...        NaN   NaN    NaN   \n",
      "std       NaN    10.675181     NaN   NaN   NaN    ...        NaN   NaN    NaN   \n",
      "min       NaN    22.000000     NaN   NaN   NaN    ...        NaN   NaN    NaN   \n",
      "25%       NaN    46.000000     NaN   NaN   NaN    ...        NaN   NaN    NaN   \n",
      "50%       NaN    54.000000     NaN   NaN   NaN    ...        NaN   NaN    NaN   \n",
      "75%       NaN    62.000000     NaN   NaN   NaN    ...        NaN   NaN    NaN   \n",
      "max       NaN    75.000000     NaN   NaN   NaN    ...        NaN   NaN    NaN   \n",
      "\n",
      "       SnowFall PrecipTotal StnPressure SeaLevel  ResultSpeed    ResultDir  \\\n",
      "count      2944        2944        2944     2944  2944.000000  2944.000000   \n",
      "unique        4         168         104      102          NaN          NaN   \n",
      "top           M        0.00       29.34    30.00          NaN          NaN   \n",
      "freq       1472        1577         128       96          NaN          NaN   \n",
      "first       NaN         NaN         NaN      NaN          NaN          NaN   \n",
      "last        NaN         NaN         NaN      NaN          NaN          NaN   \n",
      "mean        NaN         NaN         NaN      NaN     6.960666    17.494905   \n",
      "std         NaN         NaN         NaN      NaN     3.587527    10.063609   \n",
      "min         NaN         NaN         NaN      NaN     0.100000     1.000000   \n",
      "25%         NaN         NaN         NaN      NaN     4.300000     7.000000   \n",
      "50%         NaN         NaN         NaN      NaN     6.400000    19.000000   \n",
      "75%         NaN         NaN         NaN      NaN     9.200000    25.000000   \n",
      "max         NaN         NaN         NaN      NaN    24.100000    36.000000   \n",
      "\n",
      "        AvgSpeed  \n",
      "count       2944  \n",
      "unique       178  \n",
      "top          6.9  \n",
      "freq          63  \n",
      "first        NaN  \n",
      "last         NaN  \n",
      "mean         NaN  \n",
      "std          NaN  \n",
      "min          NaN  \n",
      "25%          NaN  \n",
      "50%          NaN  \n",
      "75%          NaN  \n",
      "max          NaN  \n",
      "\n",
      "[13 rows x 22 columns] \n",
      "\n",
      "Unique Values by Variable\n",
      "Station : 2\n",
      "Date : 1472\n",
      "Tmax : 63\n",
      "Tmin : 54\n",
      "Tavg : 60\n",
      "Depart : 42\n",
      "DewPoint : 54\n",
      "WetBulb : 48\n",
      "Heat : 31\n",
      "Cool : 31\n",
      "Sunrise : 122\n",
      "Sunset : 119\n",
      "CodeSum : 98\n",
      "Depth : 2\n",
      "Water1 : 1\n",
      "SnowFall : 4\n",
      "PrecipTotal : 168\n",
      "StnPressure : 104\n",
      "SeaLevel : 102\n",
      "ResultSpeed : 190\n",
      "ResultDir : 36\n",
      "AvgSpeed : 178\n"
     ]
    }
   ],
   "source": [
    "DataInspect(weather)"
   ]
  },
  {
   "cell_type": "code",
   "execution_count": null,
   "metadata": {
    "collapsed": true
   },
   "outputs": [],
   "source": [
    "pdp.ProfileReport(train)"
   ]
  },
  {
   "cell_type": "code",
   "execution_count": null,
   "metadata": {
    "collapsed": true
   },
   "outputs": [],
   "source": [
    "pdp.ProfileReport(spray)"
   ]
  },
  {
   "cell_type": "code",
   "execution_count": null,
   "metadata": {
    "collapsed": true
   },
   "outputs": [],
   "source": [
    "pdp.ProfileReport(weather)"
   ]
  },
  {
   "cell_type": "markdown",
   "metadata": {},
   "source": [
    "#### Fix dates"
   ]
  },
  {
   "cell_type": "code",
   "execution_count": 7,
   "metadata": {
    "ExecuteTime": {
     "end_time": "2018-03-02T21:07:30.607144Z",
     "start_time": "2018-03-02T21:07:30.496305Z"
    },
    "collapsed": true
   },
   "outputs": [],
   "source": [
    "train['Date'] = pd.to_datetime(train['Date'])\n",
    "spray['Date'] = pd.to_datetime(spray['Date'])\n",
    "weather['Date'] = pd.to_datetime(weather['Date'])\n",
    "#test['Date'] = pd.to_datetime(test['Date'])"
   ]
  },
  {
   "cell_type": "code",
   "execution_count": 8,
   "metadata": {
    "ExecuteTime": {
     "end_time": "2018-03-02T21:07:49.219043Z",
     "start_time": "2018-03-02T21:07:49.023162Z"
    }
   },
   "outputs": [
    {
     "data": {
      "text/plain": [
       "count                   14835\n",
       "unique                     10\n",
       "top       2013-08-15 00:00:00\n",
       "freq                     2668\n",
       "first     2011-08-29 00:00:00\n",
       "last      2013-09-05 00:00:00\n",
       "Name: Date, dtype: object"
      ]
     },
     "execution_count": 8,
     "metadata": {},
     "output_type": "execute_result"
    }
   ],
   "source": [
    "spray['Date'].describe()"
   ]
  },
  {
   "cell_type": "code",
   "execution_count": 9,
   "metadata": {
    "ExecuteTime": {
     "end_time": "2018-03-02T21:07:49.551131Z",
     "start_time": "2018-03-02T21:07:49.540101Z"
    }
   },
   "outputs": [
    {
     "data": {
      "text/plain": [
       "count                   10506\n",
       "unique                     95\n",
       "top       2007-08-01 00:00:00\n",
       "freq                      551\n",
       "first     2007-05-29 00:00:00\n",
       "last      2013-09-26 00:00:00\n",
       "Name: Date, dtype: object"
      ]
     },
     "execution_count": 9,
     "metadata": {},
     "output_type": "execute_result"
    }
   ],
   "source": [
    "train['Date'].describe()"
   ]
  },
  {
   "cell_type": "code",
   "execution_count": 10,
   "metadata": {
    "ExecuteTime": {
     "end_time": "2018-03-02T21:07:51.020330Z",
     "start_time": "2018-03-02T21:07:51.008245Z"
    }
   },
   "outputs": [
    {
     "data": {
      "text/plain": [
       "count                    2944\n",
       "unique                   1472\n",
       "top       2014-08-27 00:00:00\n",
       "freq                        2\n",
       "first     2007-05-01 00:00:00\n",
       "last      2014-10-31 00:00:00\n",
       "Name: Date, dtype: object"
      ]
     },
     "execution_count": 10,
     "metadata": {},
     "output_type": "execute_result"
    }
   ],
   "source": [
    "weather['Date'].describe()"
   ]
  },
  {
   "cell_type": "markdown",
   "metadata": {
    "heading_collapsed": true
   },
   "source": [
    "#### Drop Duplicates"
   ]
  },
  {
   "cell_type": "code",
   "execution_count": 19,
   "metadata": {
    "ExecuteTime": {
     "end_time": "2018-03-02T21:11:21.112295Z",
     "start_time": "2018-03-02T21:11:21.092389Z"
    },
    "hidden": true
   },
   "outputs": [
    {
     "data": {
      "text/html": [
       "<div>\n",
       "<style>\n",
       "    .dataframe thead tr:only-child th {\n",
       "        text-align: right;\n",
       "    }\n",
       "\n",
       "    .dataframe thead th {\n",
       "        text-align: left;\n",
       "    }\n",
       "\n",
       "    .dataframe tbody tr th {\n",
       "        vertical-align: top;\n",
       "    }\n",
       "</style>\n",
       "<table border=\"1\" class=\"dataframe\">\n",
       "  <thead>\n",
       "    <tr style=\"text-align: right;\">\n",
       "      <th></th>\n",
       "      <th>Date</th>\n",
       "      <th>Address</th>\n",
       "      <th>Species</th>\n",
       "      <th>Block</th>\n",
       "      <th>Street</th>\n",
       "      <th>Trap</th>\n",
       "      <th>AddressNumberAndStreet</th>\n",
       "      <th>Latitude</th>\n",
       "      <th>Longitude</th>\n",
       "      <th>AddressAccuracy</th>\n",
       "      <th>NumMosquitos</th>\n",
       "      <th>WnvPresent</th>\n",
       "    </tr>\n",
       "  </thead>\n",
       "  <tbody>\n",
       "  </tbody>\n",
       "</table>\n",
       "</div>"
      ],
      "text/plain": [
       "Empty DataFrame\n",
       "Columns: [Date, Address, Species, Block, Street, Trap, AddressNumberAndStreet, Latitude, Longitude, AddressAccuracy, NumMosquitos, WnvPresent]\n",
       "Index: []"
      ]
     },
     "execution_count": 19,
     "metadata": {},
     "output_type": "execute_result"
    }
   ],
   "source": [
    "# inspect duplicates in spray\n",
    "train[train.duplicated(keep=False)][:5]"
   ]
  },
  {
   "cell_type": "code",
   "execution_count": 18,
   "metadata": {
    "ExecuteTime": {
     "end_time": "2018-03-02T21:11:02.734787Z",
     "start_time": "2018-03-02T21:11:02.719539Z"
    },
    "hidden": true
   },
   "outputs": [],
   "source": [
    "train.drop(train[train.duplicated(keep='first')].index,axis=0,inplace=True)"
   ]
  },
  {
   "cell_type": "code",
   "execution_count": 20,
   "metadata": {
    "ExecuteTime": {
     "end_time": "2018-03-02T21:11:25.405015Z",
     "start_time": "2018-03-02T21:11:25.384613Z"
    },
    "hidden": true
   },
   "outputs": [
    {
     "data": {
      "text/html": [
       "<div>\n",
       "<style>\n",
       "    .dataframe thead tr:only-child th {\n",
       "        text-align: right;\n",
       "    }\n",
       "\n",
       "    .dataframe thead th {\n",
       "        text-align: left;\n",
       "    }\n",
       "\n",
       "    .dataframe tbody tr th {\n",
       "        vertical-align: top;\n",
       "    }\n",
       "</style>\n",
       "<table border=\"1\" class=\"dataframe\">\n",
       "  <thead>\n",
       "    <tr style=\"text-align: right;\">\n",
       "      <th></th>\n",
       "      <th>Date</th>\n",
       "      <th>Time</th>\n",
       "      <th>Latitude</th>\n",
       "      <th>Longitude</th>\n",
       "    </tr>\n",
       "  </thead>\n",
       "  <tbody>\n",
       "    <tr>\n",
       "      <th>484</th>\n",
       "      <td>2011-09-07</td>\n",
       "      <td>7:43:40 PM</td>\n",
       "      <td>41.983917</td>\n",
       "      <td>-87.793088</td>\n",
       "    </tr>\n",
       "    <tr>\n",
       "      <th>485</th>\n",
       "      <td>2011-09-07</td>\n",
       "      <td>7:43:40 PM</td>\n",
       "      <td>41.983917</td>\n",
       "      <td>-87.793088</td>\n",
       "    </tr>\n",
       "    <tr>\n",
       "      <th>489</th>\n",
       "      <td>2011-09-07</td>\n",
       "      <td>7:44:32 PM</td>\n",
       "      <td>41.986460</td>\n",
       "      <td>-87.794225</td>\n",
       "    </tr>\n",
       "    <tr>\n",
       "      <th>490</th>\n",
       "      <td>2011-09-07</td>\n",
       "      <td>7:44:32 PM</td>\n",
       "      <td>41.986460</td>\n",
       "      <td>-87.794225</td>\n",
       "    </tr>\n",
       "    <tr>\n",
       "      <th>491</th>\n",
       "      <td>2011-09-07</td>\n",
       "      <td>7:44:32 PM</td>\n",
       "      <td>41.986460</td>\n",
       "      <td>-87.794225</td>\n",
       "    </tr>\n",
       "  </tbody>\n",
       "</table>\n",
       "</div>"
      ],
      "text/plain": [
       "          Date        Time   Latitude  Longitude\n",
       "484 2011-09-07  7:43:40 PM  41.983917 -87.793088\n",
       "485 2011-09-07  7:43:40 PM  41.983917 -87.793088\n",
       "489 2011-09-07  7:44:32 PM  41.986460 -87.794225\n",
       "490 2011-09-07  7:44:32 PM  41.986460 -87.794225\n",
       "491 2011-09-07  7:44:32 PM  41.986460 -87.794225"
      ]
     },
     "execution_count": 20,
     "metadata": {},
     "output_type": "execute_result"
    }
   ],
   "source": [
    "# inspect duplicates in spray\n",
    "spray[spray.duplicated(keep=False)][:5]"
   ]
  },
  {
   "cell_type": "code",
   "execution_count": 21,
   "metadata": {
    "ExecuteTime": {
     "end_time": "2018-03-02T21:11:39.240791Z",
     "start_time": "2018-03-02T21:11:39.225692Z"
    },
    "collapsed": true,
    "hidden": true
   },
   "outputs": [],
   "source": [
    "spray.drop(spray[spray.duplicated(keep='first')].index,axis=0,inplace=True)"
   ]
  },
  {
   "cell_type": "code",
   "execution_count": 22,
   "metadata": {
    "ExecuteTime": {
     "end_time": "2018-03-02T21:11:46.272458Z",
     "start_time": "2018-03-02T21:11:46.265523Z"
    },
    "hidden": true
   },
   "outputs": [
    {
     "name": "stdout",
     "output_type": "stream",
     "text": [
      "9693\n",
      "14294\n",
      "2944\n"
     ]
    }
   ],
   "source": [
    "print(len(train))\n",
    "print(len(spray))\n",
    "print(len(weather))"
   ]
  },
  {
   "cell_type": "markdown",
   "metadata": {},
   "source": [
    "#### Dummy species"
   ]
  },
  {
   "cell_type": "code",
   "execution_count": 23,
   "metadata": {
    "ExecuteTime": {
     "end_time": "2018-03-02T21:19:15.337927Z",
     "start_time": "2018-03-02T21:19:15.277201Z"
    },
    "collapsed": true
   },
   "outputs": [],
   "source": [
    "# get dummies for mosquito species\n",
    "\n",
    "spc_d = pd.get_dummies(train, columns=['Species'])\n",
    "traincol = train.columns.drop('Species')\n",
    "train = pd.concat([train[traincol],spc_d])"
   ]
  },
  {
   "cell_type": "markdown",
   "metadata": {},
   "source": [
    "#### Fix weather data"
   ]
  },
  {
   "cell_type": "code",
   "execution_count": 24,
   "metadata": {
    "ExecuteTime": {
     "end_time": "2018-03-02T21:19:18.400478Z",
     "start_time": "2018-03-02T21:19:18.393246Z"
    },
    "collapsed": true
   },
   "outputs": [],
   "source": [
    "# Changes string T to 0.005, M to 0.0 (11 observations of 2944), and everything else into a float\n",
    "def rainy_day(column):\n",
    "    weather[column] = weather[column].str.replace('T','0.005')\n",
    "    weather[column] = weather[column].str.replace('M','0.0')\n",
    "    weather[column] = weather[column].astype(float)"
   ]
  },
  {
   "cell_type": "code",
   "execution_count": 25,
   "metadata": {
    "ExecuteTime": {
     "end_time": "2018-03-02T21:19:19.136936Z",
     "start_time": "2018-03-02T21:19:19.122041Z"
    },
    "collapsed": true
   },
   "outputs": [],
   "source": [
    "rainy_day('Tavg')\n",
    "rainy_day('PrecipTotal')"
   ]
  },
  {
   "cell_type": "code",
   "execution_count": 26,
   "metadata": {
    "ExecuteTime": {
     "end_time": "2018-03-02T21:19:19.737340Z",
     "start_time": "2018-03-02T21:19:19.628830Z"
    }
   },
   "outputs": [
    {
     "name": "stderr",
     "output_type": "stream",
     "text": [
      "/Users/mjschillawski/anaconda3/lib/python3.6/site-packages/ipykernel/__main__.py:2: SettingWithCopyWarning: \n",
      "A value is trying to be set on a copy of a slice from a DataFrame\n",
      "\n",
      "See the caveats in the documentation: http://pandas.pydata.org/pandas-docs/stable/indexing.html#indexing-view-versus-copy\n",
      "  from ipykernel import kernelapp as app\n"
     ]
    },
    {
     "data": {
      "text/plain": [
       "73.0    138\n",
       "70.0    117\n",
       "77.0    117\n",
       "75.0    110\n",
       "71.0    109\n",
       "74.0    107\n",
       "72.0    104\n",
       "78.0    103\n",
       "69.0    103\n",
       "76.0    100\n",
       "68.0     99\n",
       "79.0     98\n",
       "66.0     94\n",
       "67.0     89\n",
       "61.0     88\n",
       "64.0     86\n",
       "65.0     84\n",
       "80.0     84\n",
       "63.0     81\n",
       "62.0     67\n",
       "57.0     67\n",
       "60.0     61\n",
       "50.0     57\n",
       "81.0     55\n",
       "53.0     49\n",
       "54.0     49\n",
       "58.0     49\n",
       "55.0     48\n",
       "82.0     48\n",
       "56.0     46\n",
       "       ... \n",
       "46.0     24\n",
       "47.0     24\n",
       "84.0     21\n",
       "44.0     19\n",
       "48.0     17\n",
       "85.0     16\n",
       "86.0     16\n",
       "42.0     15\n",
       "43.0     12\n",
       "87.0      9\n",
       "41.0      7\n",
       "40.0      5\n",
       "88.0      4\n",
       "91.0      4\n",
       "39.0      4\n",
       "89.0      4\n",
       "38.0      2\n",
       "36.0      2\n",
       "90.0      2\n",
       "37.0      2\n",
       "71.5      1\n",
       "92.0      1\n",
       "94.0      1\n",
       "64.5      1\n",
       "93.0      1\n",
       "63.5      1\n",
       "56.5      1\n",
       "85.5      1\n",
       "67.5      1\n",
       "68.5      1\n",
       "Name: Tavg, Length: 66, dtype: int64"
      ]
     },
     "execution_count": 26,
     "metadata": {},
     "output_type": "execute_result"
    }
   ],
   "source": [
    "#All Tavg values that were missing (changed to 0 with rainy_day function) are given values from min/max\n",
    "weather['Tavg'][weather.Tavg==0] = (weather['Tmin'] + weather['Tmax']) / 2\n",
    "weather['Tavg'].value_counts()"
   ]
  },
  {
   "cell_type": "markdown",
   "metadata": {
    "collapsed": true
   },
   "source": [
    "## EDA"
   ]
  },
  {
   "cell_type": "markdown",
   "metadata": {},
   "source": [
    "### Join Weather Data to Trap Data"
   ]
  },
  {
   "cell_type": "code",
   "execution_count": 27,
   "metadata": {
    "ExecuteTime": {
     "end_time": "2018-03-02T21:58:48.254130Z",
     "start_time": "2018-03-02T21:58:48.248535Z"
    }
   },
   "outputs": [
    {
     "name": "stdout",
     "output_type": "stream",
     "text": [
      "19386 2944\n"
     ]
    }
   ],
   "source": [
    "print(len(train),len(weather))"
   ]
  },
  {
   "cell_type": "code",
   "execution_count": 28,
   "metadata": {
    "ExecuteTime": {
     "end_time": "2018-03-02T21:58:48.588444Z",
     "start_time": "2018-03-02T21:58:48.582560Z"
    }
   },
   "outputs": [
    {
     "data": {
      "text/plain": [
       "Index(['Station', 'Date', 'Tmax', 'Tmin', 'Tavg', 'Depart', 'DewPoint',\n",
       "       'WetBulb', 'Heat', 'Cool', 'Sunrise', 'Sunset', 'CodeSum', 'Depth',\n",
       "       'Water1', 'SnowFall', 'PrecipTotal', 'StnPressure', 'SeaLevel',\n",
       "       'ResultSpeed', 'ResultDir', 'AvgSpeed'],\n",
       "      dtype='object')"
      ]
     },
     "execution_count": 28,
     "metadata": {},
     "output_type": "execute_result"
    }
   ],
   "source": [
    "weather.columns"
   ]
  },
  {
   "cell_type": "code",
   "execution_count": 29,
   "metadata": {
    "ExecuteTime": {
     "end_time": "2018-03-02T21:58:49.658356Z",
     "start_time": "2018-03-02T21:58:49.641592Z"
    },
    "collapsed": true
   },
   "outputs": [],
   "source": [
    "station1 = weather[weather['Station']==1].copy()\n",
    "station2 = weather[weather['Station']==2].copy()\n",
    "\n",
    "\n",
    "#Station 1: CHICAGO O'HARE INTERNATIONAL AIRPORT Lat: 41.995 Lon: -87.933 Elev: 662 ft. above sea level\n",
    "station1['Latitude'] = 41.995\n",
    "station1['Longitude'] = -87.9336\n",
    "\n",
    "#Station 2: CHICAGO MIDWAY INTL ARPT Lat: 41.786 Lon: -87.752 Elev: 612 ft. above sea level\n",
    "station2['Latitude'] = 41.78611\n",
    "station2['Longitude'] = -87.75222\n"
   ]
  },
  {
   "cell_type": "code",
   "execution_count": 30,
   "metadata": {
    "ExecuteTime": {
     "end_time": "2018-03-02T21:58:51.716812Z",
     "start_time": "2018-03-02T21:58:51.577090Z"
    },
    "collapsed": true
   },
   "outputs": [],
   "source": [
    "stations = pd.merge(station1,station2,on='Date',suffixes=('_s1','_s2'))\n",
    "traps_weather = pd.merge(train,stations,on='Date')"
   ]
  },
  {
   "cell_type": "code",
   "execution_count": 31,
   "metadata": {
    "ExecuteTime": {
     "end_time": "2018-03-02T21:58:52.881685Z",
     "start_time": "2018-03-02T21:58:52.363700Z"
    }
   },
   "outputs": [
    {
     "name": "stdout",
     "output_type": "stream",
     "text": [
      "Dataframe Shape: (19386, 64) \n",
      "\n",
      "Duplicate Rows: 699 \n",
      "\n",
      "Dataframe Types \n",
      "\n",
      " Address                                   object\n",
      "AddressAccuracy                            int64\n",
      "AddressNumberAndStreet                    object\n",
      "Block                                      int64\n",
      "Date                              datetime64[ns]\n",
      "Latitude                                 float64\n",
      "Longitude                                float64\n",
      "NumMosquitos                               int64\n",
      "Species_CULEX ERRATICUS                  float64\n",
      "Species_CULEX PIPIENS                    float64\n",
      "Species_CULEX PIPIENS/RESTUANS           float64\n",
      "Species_CULEX RESTUANS                   float64\n",
      "Species_CULEX SALINARIUS                 float64\n",
      "Species_CULEX TARSALIS                   float64\n",
      "Species_CULEX TERRITANS                  float64\n",
      "Street                                    object\n",
      "Trap                                      object\n",
      "WnvPresent                                 int64\n",
      "Station_s1                                 int64\n",
      "Tmax_s1                                    int64\n",
      "Tmin_s1                                    int64\n",
      "Tavg_s1                                  float64\n",
      "Depart_s1                                 object\n",
      "DewPoint_s1                                int64\n",
      "WetBulb_s1                                object\n",
      "Heat_s1                                   object\n",
      "Cool_s1                                   object\n",
      "Sunrise_s1                                object\n",
      "Sunset_s1                                 object\n",
      "CodeSum_s1                                object\n",
      "                                       ...      \n",
      "StnPressure_s1                            object\n",
      "SeaLevel_s1                               object\n",
      "ResultSpeed_s1                           float64\n",
      "ResultDir_s1                               int64\n",
      "AvgSpeed_s1                               object\n",
      "Latitude_s1                              float64\n",
      "Longitude_s1                             float64\n",
      "Station_s2                                 int64\n",
      "Tmax_s2                                    int64\n",
      "Tmin_s2                                    int64\n",
      "Tavg_s2                                  float64\n",
      "Depart_s2                                 object\n",
      "DewPoint_s2                                int64\n",
      "WetBulb_s2                                object\n",
      "Heat_s2                                   object\n",
      "Cool_s2                                   object\n",
      "Sunrise_s2                                object\n",
      "Sunset_s2                                 object\n",
      "CodeSum_s2                                object\n",
      "Depth_s2                                  object\n",
      "Water1_s2                                 object\n",
      "SnowFall_s2                               object\n",
      "PrecipTotal_s2                           float64\n",
      "StnPressure_s2                            object\n",
      "SeaLevel_s2                               object\n",
      "ResultSpeed_s2                           float64\n",
      "ResultDir_s2                               int64\n",
      "AvgSpeed_s2                               object\n",
      "Latitude_s2                              float64\n",
      "Longitude_s2                             float64\n",
      "Length: 64, dtype: object \n",
      "\n",
      "Missing Values \n",
      "\n",
      " Address                              0\n",
      "AddressAccuracy                      0\n",
      "AddressNumberAndStreet               0\n",
      "Block                                0\n",
      "Date                                 0\n",
      "Latitude                             0\n",
      "Longitude                            0\n",
      "NumMosquitos                         0\n",
      "Species_CULEX ERRATICUS           9693\n",
      "Species_CULEX PIPIENS             9693\n",
      "Species_CULEX PIPIENS/RESTUANS    9693\n",
      "Species_CULEX RESTUANS            9693\n",
      "Species_CULEX SALINARIUS          9693\n",
      "Species_CULEX TARSALIS            9693\n",
      "Species_CULEX TERRITANS           9693\n",
      "Street                               0\n",
      "Trap                                 0\n",
      "WnvPresent                           0\n",
      "Station_s1                           0\n",
      "Tmax_s1                              0\n",
      "Tmin_s1                              0\n",
      "Tavg_s1                              0\n",
      "Depart_s1                            0\n",
      "DewPoint_s1                          0\n",
      "WetBulb_s1                           0\n",
      "Heat_s1                              0\n",
      "Cool_s1                              0\n",
      "Sunrise_s1                           0\n",
      "Sunset_s1                            0\n",
      "CodeSum_s1                           0\n",
      "                                  ... \n",
      "StnPressure_s1                       0\n",
      "SeaLevel_s1                          0\n",
      "ResultSpeed_s1                       0\n",
      "ResultDir_s1                         0\n",
      "AvgSpeed_s1                          0\n",
      "Latitude_s1                          0\n",
      "Longitude_s1                         0\n",
      "Station_s2                           0\n",
      "Tmax_s2                              0\n",
      "Tmin_s2                              0\n",
      "Tavg_s2                              0\n",
      "Depart_s2                            0\n",
      "DewPoint_s2                          0\n",
      "WetBulb_s2                           0\n",
      "Heat_s2                              0\n",
      "Cool_s2                              0\n",
      "Sunrise_s2                           0\n",
      "Sunset_s2                            0\n",
      "CodeSum_s2                           0\n",
      "Depth_s2                             0\n",
      "Water1_s2                            0\n",
      "SnowFall_s2                          0\n",
      "PrecipTotal_s2                       0\n",
      "StnPressure_s2                       0\n",
      "SeaLevel_s2                          0\n",
      "ResultSpeed_s2                       0\n",
      "ResultDir_s2                         0\n",
      "AvgSpeed_s2                          0\n",
      "Latitude_s2                          0\n",
      "Longitude_s2                         0\n",
      "Length: 64, dtype: int64 \n",
      "\n",
      "Dataframe Describe \n",
      "\n",
      "                                                   Address  AddressAccuracy  \\\n",
      "count                                               19386     19386.000000   \n",
      "unique                                                138              NaN   \n",
      "top     ORD Terminal 5, O'Hare International Airport, ...              NaN   \n",
      "freq                                                 1224              NaN   \n",
      "first                                                 NaN              NaN   \n",
      "last                                                  NaN              NaN   \n",
      "mean                                                  NaN         7.941092   \n",
      "std                                                   NaN         1.350947   \n",
      "min                                                   NaN         3.000000   \n",
      "25%                                                   NaN         8.000000   \n",
      "50%                                                   NaN         8.000000   \n",
      "75%                                                   NaN         9.000000   \n",
      "max                                                   NaN         9.000000   \n",
      "\n",
      "                    AddressNumberAndStreet         Block                 Date  \\\n",
      "count                                19386  19386.000000                19386   \n",
      "unique                                 138           NaN                   95   \n",
      "top     1000  W OHARE AIRPORT, Chicago, IL           NaN  2007-08-01 00:00:00   \n",
      "freq                                  1224           NaN                  912   \n",
      "first                                  NaN           NaN  2007-05-29 00:00:00   \n",
      "last                                   NaN           NaN  2013-09-26 00:00:00   \n",
      "mean                                   NaN     37.231714                  NaN   \n",
      "std                                    NaN     24.329807                  NaN   \n",
      "min                                    NaN     10.000000                  NaN   \n",
      "25%                                    NaN     13.000000                  NaN   \n",
      "50%                                    NaN     36.000000                  NaN   \n",
      "75%                                    NaN     58.000000                  NaN   \n",
      "max                                    NaN     98.000000                  NaN   \n",
      "\n",
      "            Latitude     Longitude  NumMosquitos  Species_CULEX ERRATICUS  \\\n",
      "count   19386.000000  19386.000000  19386.000000              9693.000000   \n",
      "unique           NaN           NaN           NaN                      NaN   \n",
      "top              NaN           NaN           NaN                      NaN   \n",
      "freq             NaN           NaN           NaN                      NaN   \n",
      "first            NaN           NaN           NaN                      NaN   \n",
      "last             NaN           NaN           NaN                      NaN   \n",
      "mean       41.847618    -87.702823     10.210564                 0.000103   \n",
      "std         0.109413      0.093462     13.138383                 0.010157   \n",
      "min        41.644612    -87.930995      1.000000                 0.000000   \n",
      "25%        41.750498    -87.760886      2.000000                 0.000000   \n",
      "50%        41.867108    -87.698457      4.000000                 0.000000   \n",
      "75%        41.954690    -87.642984     13.000000                 0.000000   \n",
      "max        42.017430    -87.531635     50.000000                 1.000000   \n",
      "\n",
      "        Species_CULEX PIPIENS      ...       Water1_s2  SnowFall_s2  \\\n",
      "count             9693.000000      ...           19386        19386   \n",
      "unique                    NaN      ...               1            1   \n",
      "top                       NaN      ...               M            M   \n",
      "freq                      NaN      ...           19386        19386   \n",
      "first                     NaN      ...             NaN          NaN   \n",
      "last                      NaN      ...             NaN          NaN   \n",
      "mean                 0.230991      ...             NaN          NaN   \n",
      "std                  0.421489      ...             NaN          NaN   \n",
      "min                  0.000000      ...             NaN          NaN   \n",
      "25%                  0.000000      ...             NaN          NaN   \n",
      "50%                  0.000000      ...             NaN          NaN   \n",
      "75%                  0.000000      ...             NaN          NaN   \n",
      "max                  1.000000      ...             NaN          NaN   \n",
      "\n",
      "        PrecipTotal_s2  StnPressure_s2  SeaLevel_s2 ResultSpeed_s2  \\\n",
      "count     19386.000000           19386        19386   19386.000000   \n",
      "unique             NaN              42           42            NaN   \n",
      "top                NaN           29.34        30.05            NaN   \n",
      "freq               NaN            2348         1376            NaN   \n",
      "first              NaN             NaN          NaN            NaN   \n",
      "last               NaN             NaN          NaN            NaN   \n",
      "mean          0.111804             NaN          NaN       5.941669   \n",
      "std           0.246845             NaN          NaN       2.921719   \n",
      "min           0.000000             NaN          NaN       1.100000   \n",
      "25%           0.000000             NaN          NaN       4.100000   \n",
      "50%           0.000000             NaN          NaN       5.500000   \n",
      "75%           0.060000             NaN          NaN       7.800000   \n",
      "max           1.190000             NaN          NaN      15.400000   \n",
      "\n",
      "        ResultDir_s2  AvgSpeed_s2   Latitude_s2  Longitude_s2  \n",
      "count   19386.000000        19386  1.938600e+04  1.938600e+04  \n",
      "unique           NaN           59           NaN           NaN  \n",
      "top              NaN          6.0           NaN           NaN  \n",
      "freq             NaN         1192           NaN           NaN  \n",
      "first            NaN          NaN           NaN           NaN  \n",
      "last             NaN          NaN           NaN           NaN  \n",
      "mean       17.895388          NaN  4.178611e+01 -8.775222e+01  \n",
      "std         9.028142          NaN  1.130503e-11  2.495490e-11  \n",
      "min         1.000000          NaN  4.178611e+01 -8.775222e+01  \n",
      "25%        10.000000          NaN  4.178611e+01 -8.775222e+01  \n",
      "50%        19.000000          NaN  4.178611e+01 -8.775222e+01  \n",
      "75%        24.000000          NaN  4.178611e+01 -8.775222e+01  \n",
      "max        36.000000          NaN  4.178611e+01 -8.775222e+01  \n",
      "\n",
      "[13 rows x 64 columns] \n",
      "\n",
      "Unique Values by Variable\n",
      "Address : 138\n",
      "AddressAccuracy : 4\n",
      "AddressNumberAndStreet : 138\n",
      "Block : 64\n",
      "Date : 95\n",
      "Latitude : 138\n",
      "Longitude : 138\n",
      "NumMosquitos : 50\n",
      "Species_CULEX ERRATICUS : 2\n",
      "Species_CULEX PIPIENS : 2\n",
      "Species_CULEX PIPIENS/RESTUANS : 2\n",
      "Species_CULEX RESTUANS : 2\n",
      "Species_CULEX SALINARIUS : 2\n",
      "Species_CULEX TARSALIS : 2\n",
      "Species_CULEX TERRITANS : 2\n",
      "Street : 128\n",
      "Trap : 136\n",
      "WnvPresent : 2\n",
      "Station_s1 : 1\n",
      "Tmax_s1 : 33\n",
      "Tmin_s1 : 33\n",
      "Tavg_s1 : 31\n",
      "Depart_s1 : 28\n",
      "DewPoint_s1 : 32\n",
      "WetBulb_s1 : 31\n",
      "Heat_s1 : 14\n",
      "Cool_s1 : 18\n",
      "Sunrise_s1 : 62\n",
      "Sunset_s1 : 58\n",
      "CodeSum_s1 : 19\n",
      "Depth_s1 : 1\n",
      "Water1_s1 : 1\n",
      "SnowFall_s1 : 2\n",
      "PrecipTotal_s1 : 31\n",
      "StnPressure_s1 : 38\n",
      "SeaLevel_s1 : 41\n",
      "ResultSpeed_s1 : 62\n",
      "ResultDir_s1 : 34\n",
      "AvgSpeed_s1 : 61\n",
      "Latitude_s1 : 1\n",
      "Longitude_s1 : 1\n",
      "Station_s2 : 1\n",
      "Tmax_s2 : 33\n",
      "Tmin_s2 : 29\n",
      "Tavg_s2 : 32\n",
      "Depart_s2 : 1\n",
      "DewPoint_s2 : 31\n",
      "WetBulb_s2 : 29\n",
      "Heat_s2 : 11\n",
      "Cool_s2 : 22\n",
      "Sunrise_s2 : 1\n",
      "Sunset_s2 : 1\n",
      "CodeSum_s2 : 22\n",
      "Depth_s2 : 1\n",
      "Water1_s2 : 1\n",
      "SnowFall_s2 : 1\n",
      "PrecipTotal_s2 : 28\n",
      "StnPressure_s2 : 42\n",
      "SeaLevel_s2 : 42\n",
      "ResultSpeed_s2 : 61\n",
      "ResultDir_s2 : 32\n",
      "AvgSpeed_s2 : 59\n",
      "Latitude_s2 : 1\n",
      "Longitude_s2 : 1\n"
     ]
    }
   ],
   "source": [
    "DataInspect(traps_weather)"
   ]
  },
  {
   "cell_type": "markdown",
   "metadata": {},
   "source": [
    "### Calculate point estimates of weather data at trap location"
   ]
  },
  {
   "cell_type": "code",
   "execution_count": 36,
   "metadata": {
    "ExecuteTime": {
     "end_time": "2018-03-02T22:02:05.538870Z",
     "start_time": "2018-03-02T22:02:05.517655Z"
    },
    "collapsed": true
   },
   "outputs": [],
   "source": [
    "# calculate distance of traps to weather stations\n",
    "dist_1 = np.sqrt(((traps_weather['Latitude'] - traps_weather['Latitude_s1'])**2 + \n",
    " (traps_weather['Longitude'] - traps_weather['Longitude_s1'])**2))\n",
    "\n",
    "dist_2 = np.sqrt(((traps_weather['Latitude'] - traps_weather['Latitude_s2'])**2 + \n",
    " (traps_weather['Longitude'] - traps_weather['Longitude_s2'])**2))\n",
    "\n",
    "# calculate distance weights to each trap\n",
    "# to weight the weather data by proximity\n",
    "total_dist = dist_1 + dist_2\n",
    "traps_weather['weight_1'] = dist_1 / total_dist\n",
    "traps_weather['weight_2'] = dist_2 / total_dist"
   ]
  },
  {
   "cell_type": "code",
   "execution_count": 37,
   "metadata": {
    "ExecuteTime": {
     "end_time": "2018-03-02T22:02:06.173900Z",
     "start_time": "2018-03-02T22:02:06.136805Z"
    }
   },
   "outputs": [
    {
     "ename": "TypeError",
     "evalue": "can't multiply sequence by non-int of type 'float'",
     "output_type": "error",
     "traceback": [
      "\u001b[0;31m---------------------------------------------------------------------------\u001b[0m",
      "\u001b[0;31mTypeError\u001b[0m                                 Traceback (most recent call last)",
      "\u001b[0;32m~/anaconda3/lib/python3.6/site-packages/pandas/core/ops.py\u001b[0m in \u001b[0;36mna_op\u001b[0;34m(x, y)\u001b[0m\n\u001b[1;32m    657\u001b[0m             result = expressions.evaluate(op, str_rep, x, y,\n\u001b[0;32m--> 658\u001b[0;31m                                           raise_on_error=True, **eval_kwargs)\n\u001b[0m\u001b[1;32m    659\u001b[0m         \u001b[0;32mexcept\u001b[0m \u001b[0mTypeError\u001b[0m\u001b[0;34m:\u001b[0m\u001b[0;34m\u001b[0m\u001b[0m\n",
      "\u001b[0;32m~/anaconda3/lib/python3.6/site-packages/pandas/core/computation/expressions.py\u001b[0m in \u001b[0;36mevaluate\u001b[0;34m(op, op_str, a, b, raise_on_error, use_numexpr, **eval_kwargs)\u001b[0m\n\u001b[1;32m    210\u001b[0m         return _evaluate(op, op_str, a, b, raise_on_error=raise_on_error,\n\u001b[0;32m--> 211\u001b[0;31m                          **eval_kwargs)\n\u001b[0m\u001b[1;32m    212\u001b[0m     \u001b[0;32mreturn\u001b[0m \u001b[0m_evaluate_standard\u001b[0m\u001b[0;34m(\u001b[0m\u001b[0mop\u001b[0m\u001b[0;34m,\u001b[0m \u001b[0mop_str\u001b[0m\u001b[0;34m,\u001b[0m \u001b[0ma\u001b[0m\u001b[0;34m,\u001b[0m \u001b[0mb\u001b[0m\u001b[0;34m,\u001b[0m \u001b[0mraise_on_error\u001b[0m\u001b[0;34m=\u001b[0m\u001b[0mraise_on_error\u001b[0m\u001b[0;34m)\u001b[0m\u001b[0;34m\u001b[0m\u001b[0m\n",
      "\u001b[0;32m~/anaconda3/lib/python3.6/site-packages/pandas/core/computation/expressions.py\u001b[0m in \u001b[0;36m_evaluate_numexpr\u001b[0;34m(op, op_str, a, b, raise_on_error, truediv, reversed, **eval_kwargs)\u001b[0m\n\u001b[1;32m    121\u001b[0m     \u001b[0;32mif\u001b[0m \u001b[0mresult\u001b[0m \u001b[0;32mis\u001b[0m \u001b[0;32mNone\u001b[0m\u001b[0;34m:\u001b[0m\u001b[0;34m\u001b[0m\u001b[0m\n\u001b[0;32m--> 122\u001b[0;31m         \u001b[0mresult\u001b[0m \u001b[0;34m=\u001b[0m \u001b[0m_evaluate_standard\u001b[0m\u001b[0;34m(\u001b[0m\u001b[0mop\u001b[0m\u001b[0;34m,\u001b[0m \u001b[0mop_str\u001b[0m\u001b[0;34m,\u001b[0m \u001b[0ma\u001b[0m\u001b[0;34m,\u001b[0m \u001b[0mb\u001b[0m\u001b[0;34m,\u001b[0m \u001b[0mraise_on_error\u001b[0m\u001b[0;34m)\u001b[0m\u001b[0;34m\u001b[0m\u001b[0m\n\u001b[0m\u001b[1;32m    123\u001b[0m \u001b[0;34m\u001b[0m\u001b[0m\n",
      "\u001b[0;32m~/anaconda3/lib/python3.6/site-packages/pandas/core/computation/expressions.py\u001b[0m in \u001b[0;36m_evaluate_standard\u001b[0;34m(op, op_str, a, b, raise_on_error, **eval_kwargs)\u001b[0m\n\u001b[1;32m     63\u001b[0m     \u001b[0;32mwith\u001b[0m \u001b[0mnp\u001b[0m\u001b[0;34m.\u001b[0m\u001b[0merrstate\u001b[0m\u001b[0;34m(\u001b[0m\u001b[0mall\u001b[0m\u001b[0;34m=\u001b[0m\u001b[0;34m'ignore'\u001b[0m\u001b[0;34m)\u001b[0m\u001b[0;34m:\u001b[0m\u001b[0;34m\u001b[0m\u001b[0m\n\u001b[0;32m---> 64\u001b[0;31m         \u001b[0;32mreturn\u001b[0m \u001b[0mop\u001b[0m\u001b[0;34m(\u001b[0m\u001b[0ma\u001b[0m\u001b[0;34m,\u001b[0m \u001b[0mb\u001b[0m\u001b[0;34m)\u001b[0m\u001b[0;34m\u001b[0m\u001b[0m\n\u001b[0m\u001b[1;32m     65\u001b[0m \u001b[0;34m\u001b[0m\u001b[0m\n",
      "\u001b[0;31mTypeError\u001b[0m: can't multiply sequence by non-int of type 'float'",
      "\nDuring handling of the above exception, another exception occurred:\n",
      "\u001b[0;31mTypeError\u001b[0m                                 Traceback (most recent call last)",
      "\u001b[0;32m<ipython-input-37-2df8c8522229>\u001b[0m in \u001b[0;36m<module>\u001b[0;34m()\u001b[0m\n\u001b[1;32m      8\u001b[0m \u001b[0;34m\u001b[0m\u001b[0m\n\u001b[1;32m      9\u001b[0m \u001b[0;32mfor\u001b[0m \u001b[0mcol\u001b[0m \u001b[0;32min\u001b[0m \u001b[0mstation1_list\u001b[0m\u001b[0;34m:\u001b[0m\u001b[0;34m\u001b[0m\u001b[0m\n\u001b[0;32m---> 10\u001b[0;31m     \u001b[0mtraps_weather\u001b[0m\u001b[0;34m[\u001b[0m\u001b[0mcol\u001b[0m\u001b[0;34m]\u001b[0m \u001b[0;34m=\u001b[0m \u001b[0mtraps_weather\u001b[0m\u001b[0;34m[\u001b[0m\u001b[0;34m'weight_2'\u001b[0m\u001b[0;34m]\u001b[0m \u001b[0;34m*\u001b[0m \u001b[0mtraps_weather\u001b[0m\u001b[0;34m[\u001b[0m\u001b[0mcol\u001b[0m\u001b[0;34m]\u001b[0m\u001b[0;34m\u001b[0m\u001b[0m\n\u001b[0m\u001b[1;32m     11\u001b[0m \u001b[0;32mfor\u001b[0m \u001b[0mcol\u001b[0m \u001b[0;32min\u001b[0m \u001b[0mstation2_list\u001b[0m\u001b[0;34m:\u001b[0m\u001b[0;34m\u001b[0m\u001b[0m\n\u001b[1;32m     12\u001b[0m     \u001b[0mtraps_weather\u001b[0m\u001b[0;34m[\u001b[0m\u001b[0mcol\u001b[0m\u001b[0;34m]\u001b[0m \u001b[0;34m=\u001b[0m \u001b[0mtraps_weather\u001b[0m\u001b[0;34m[\u001b[0m\u001b[0;34m'weight_1'\u001b[0m\u001b[0;34m]\u001b[0m \u001b[0;34m*\u001b[0m \u001b[0mtraps_weather\u001b[0m\u001b[0;34m[\u001b[0m\u001b[0mcol\u001b[0m\u001b[0;34m]\u001b[0m\u001b[0;34m\u001b[0m\u001b[0m\n",
      "\u001b[0;32m~/anaconda3/lib/python3.6/site-packages/pandas/core/ops.py\u001b[0m in \u001b[0;36mwrapper\u001b[0;34m(left, right, name, na_op)\u001b[0m\n\u001b[1;32m    719\u001b[0m                 \u001b[0mlvalues\u001b[0m \u001b[0;34m=\u001b[0m \u001b[0mlvalues\u001b[0m\u001b[0;34m.\u001b[0m\u001b[0mvalues\u001b[0m\u001b[0;34m\u001b[0m\u001b[0m\n\u001b[1;32m    720\u001b[0m \u001b[0;34m\u001b[0m\u001b[0m\n\u001b[0;32m--> 721\u001b[0;31m         \u001b[0mresult\u001b[0m \u001b[0;34m=\u001b[0m \u001b[0mwrap_results\u001b[0m\u001b[0;34m(\u001b[0m\u001b[0msafe_na_op\u001b[0m\u001b[0;34m(\u001b[0m\u001b[0mlvalues\u001b[0m\u001b[0;34m,\u001b[0m \u001b[0mrvalues\u001b[0m\u001b[0;34m)\u001b[0m\u001b[0;34m)\u001b[0m\u001b[0;34m\u001b[0m\u001b[0m\n\u001b[0m\u001b[1;32m    722\u001b[0m         return construct_result(\n\u001b[1;32m    723\u001b[0m             \u001b[0mleft\u001b[0m\u001b[0;34m,\u001b[0m\u001b[0;34m\u001b[0m\u001b[0m\n",
      "\u001b[0;32m~/anaconda3/lib/python3.6/site-packages/pandas/core/ops.py\u001b[0m in \u001b[0;36msafe_na_op\u001b[0;34m(lvalues, rvalues)\u001b[0m\n\u001b[1;32m    680\u001b[0m         \u001b[0;32mtry\u001b[0m\u001b[0;34m:\u001b[0m\u001b[0;34m\u001b[0m\u001b[0m\n\u001b[1;32m    681\u001b[0m             \u001b[0;32mwith\u001b[0m \u001b[0mnp\u001b[0m\u001b[0;34m.\u001b[0m\u001b[0merrstate\u001b[0m\u001b[0;34m(\u001b[0m\u001b[0mall\u001b[0m\u001b[0;34m=\u001b[0m\u001b[0;34m'ignore'\u001b[0m\u001b[0;34m)\u001b[0m\u001b[0;34m:\u001b[0m\u001b[0;34m\u001b[0m\u001b[0m\n\u001b[0;32m--> 682\u001b[0;31m                 \u001b[0;32mreturn\u001b[0m \u001b[0mna_op\u001b[0m\u001b[0;34m(\u001b[0m\u001b[0mlvalues\u001b[0m\u001b[0;34m,\u001b[0m \u001b[0mrvalues\u001b[0m\u001b[0;34m)\u001b[0m\u001b[0;34m\u001b[0m\u001b[0m\n\u001b[0m\u001b[1;32m    683\u001b[0m         \u001b[0;32mexcept\u001b[0m \u001b[0mException\u001b[0m\u001b[0;34m:\u001b[0m\u001b[0;34m\u001b[0m\u001b[0m\n\u001b[1;32m    684\u001b[0m             \u001b[0;32mif\u001b[0m \u001b[0misinstance\u001b[0m\u001b[0;34m(\u001b[0m\u001b[0mrvalues\u001b[0m\u001b[0;34m,\u001b[0m \u001b[0mABCSeries\u001b[0m\u001b[0;34m)\u001b[0m\u001b[0;34m:\u001b[0m\u001b[0;34m\u001b[0m\u001b[0m\n",
      "\u001b[0;32m~/anaconda3/lib/python3.6/site-packages/pandas/core/ops.py\u001b[0m in \u001b[0;36mna_op\u001b[0;34m(x, y)\u001b[0m\n\u001b[1;32m    662\u001b[0m                 \u001b[0mresult\u001b[0m \u001b[0;34m=\u001b[0m \u001b[0mnp\u001b[0m\u001b[0;34m.\u001b[0m\u001b[0mempty\u001b[0m\u001b[0;34m(\u001b[0m\u001b[0mx\u001b[0m\u001b[0;34m.\u001b[0m\u001b[0msize\u001b[0m\u001b[0;34m,\u001b[0m \u001b[0mdtype\u001b[0m\u001b[0;34m=\u001b[0m\u001b[0mdtype\u001b[0m\u001b[0;34m)\u001b[0m\u001b[0;34m\u001b[0m\u001b[0m\n\u001b[1;32m    663\u001b[0m                 \u001b[0mmask\u001b[0m \u001b[0;34m=\u001b[0m \u001b[0mnotnull\u001b[0m\u001b[0;34m(\u001b[0m\u001b[0mx\u001b[0m\u001b[0;34m)\u001b[0m \u001b[0;34m&\u001b[0m \u001b[0mnotnull\u001b[0m\u001b[0;34m(\u001b[0m\u001b[0my\u001b[0m\u001b[0;34m)\u001b[0m\u001b[0;34m\u001b[0m\u001b[0m\n\u001b[0;32m--> 664\u001b[0;31m                 \u001b[0mresult\u001b[0m\u001b[0;34m[\u001b[0m\u001b[0mmask\u001b[0m\u001b[0;34m]\u001b[0m \u001b[0;34m=\u001b[0m \u001b[0mop\u001b[0m\u001b[0;34m(\u001b[0m\u001b[0mx\u001b[0m\u001b[0;34m[\u001b[0m\u001b[0mmask\u001b[0m\u001b[0;34m]\u001b[0m\u001b[0;34m,\u001b[0m \u001b[0m_values_from_object\u001b[0m\u001b[0;34m(\u001b[0m\u001b[0my\u001b[0m\u001b[0;34m[\u001b[0m\u001b[0mmask\u001b[0m\u001b[0;34m]\u001b[0m\u001b[0;34m)\u001b[0m\u001b[0;34m)\u001b[0m\u001b[0;34m\u001b[0m\u001b[0m\n\u001b[0m\u001b[1;32m    665\u001b[0m             \u001b[0;32melif\u001b[0m \u001b[0misinstance\u001b[0m\u001b[0;34m(\u001b[0m\u001b[0mx\u001b[0m\u001b[0;34m,\u001b[0m \u001b[0mnp\u001b[0m\u001b[0;34m.\u001b[0m\u001b[0mndarray\u001b[0m\u001b[0;34m)\u001b[0m\u001b[0;34m:\u001b[0m\u001b[0;34m\u001b[0m\u001b[0m\n\u001b[1;32m    666\u001b[0m                 \u001b[0mresult\u001b[0m \u001b[0;34m=\u001b[0m \u001b[0mnp\u001b[0m\u001b[0;34m.\u001b[0m\u001b[0mempty\u001b[0m\u001b[0;34m(\u001b[0m\u001b[0mlen\u001b[0m\u001b[0;34m(\u001b[0m\u001b[0mx\u001b[0m\u001b[0;34m)\u001b[0m\u001b[0;34m,\u001b[0m \u001b[0mdtype\u001b[0m\u001b[0;34m=\u001b[0m\u001b[0mx\u001b[0m\u001b[0;34m.\u001b[0m\u001b[0mdtype\u001b[0m\u001b[0;34m)\u001b[0m\u001b[0;34m\u001b[0m\u001b[0m\n",
      "\u001b[0;31mTypeError\u001b[0m: can't multiply sequence by non-int of type 'float'"
     ]
    }
   ],
   "source": [
    "# Apply distance weights to weather data\n",
    "# Inverse weight because the closer station should have the heavier weight\n",
    "\n",
    "station1_list = [col for col in traps_weather.columns \n",
    "                if '_s1' in col and col not in ('Station_s1','Latitude_s1','Longitude_s1','CodeSum_s1')]\n",
    "station2_list = [col for col in traps_weather.columns \n",
    "                 if '_s2' in col and col not in ('Station_s2','Latitude_s2','Longitude_s2','CodeSum_s2')]\n",
    "\n",
    "for col in station1_list:\n",
    "    traps_weather[col] = traps_weather['weight_2'] * traps_weather[col]\n",
    "for col in station2_list:\n",
    "    traps_weather[col] = traps_weather['weight_1'] * traps_weather[col]"
   ]
  },
  {
   "cell_type": "code",
   "execution_count": null,
   "metadata": {
    "ExecuteTime": {
     "end_time": "2018-03-01T20:56:45.416167Z",
     "start_time": "2018-03-01T20:56:45.371947Z"
    },
    "collapsed": true
   },
   "outputs": [],
   "source": [
    "for col in [col for col in traps_weather.columns \n",
    "            if 's1' in col and col not in ('Station_s1','Latitude_s1','Longitude_s1')]:\n",
    "    name = col.replace('_s1','')\n",
    "    traps_weather[name] = traps_weather[col] + traps_weather[name+'_s2']"
   ]
  },
  {
   "cell_type": "markdown",
   "metadata": {},
   "source": [
    "### Spraying Data"
   ]
  },
  {
   "cell_type": "code",
   "execution_count": null,
   "metadata": {
    "ExecuteTime": {
     "end_time": "2018-03-01T21:36:01.223146Z",
     "start_time": "2018-03-01T21:36:01.217359Z"
    }
   },
   "outputs": [],
   "source": [
    "len(spray)"
   ]
  },
  {
   "cell_type": "code",
   "execution_count": null,
   "metadata": {
    "ExecuteTime": {
     "end_time": "2018-03-01T21:36:18.004596Z",
     "start_time": "2018-03-01T21:36:17.990017Z"
    }
   },
   "outputs": [],
   "source": [
    "spray.head(3)"
   ]
  },
  {
   "cell_type": "code",
   "execution_count": null,
   "metadata": {
    "ExecuteTime": {
     "end_time": "2018-03-02T01:42:39.923165Z",
     "start_time": "2018-03-02T01:41:33.092734Z"
    },
    "collapsed": true
   },
   "outputs": [],
   "source": [
    "# the idea here is that the targeted intervention has an effect that decays in two dimensions, time and distance\n",
    "# the reference location that we care about is the trap\n",
    "# so we evaluate spraying by how far the trap is from the where the spraying occurs AND\n",
    "# we evaluate how long before the trap observation did the spraying occur\n",
    "# so we calculate the deltas for every spraying against every trap\n",
    "# if spraying occurred after the observation, we zero out these observations\n",
    "\n",
    "# should we cross-multiply the distance and time? spraying that is \n",
    "# close in both time and distance should be privileged\n",
    "\n",
    "distance = []\n",
    "time = []\n",
    "\n",
    "for i in traps_weather.index:\n",
    "    temp_lat = traps_weather.at[i,'Latitude']\n",
    "    temp_long = traps_weather.at[i,'Longitude']\n",
    "\n",
    "    # calculate distance from traps to spray locations\n",
    "    dist = np.sqrt((spray['Latitude'] - temp_lat)**2 + (spray['Longitude'] - temp_long)**2)\n",
    "    distance.append(dist)\n",
    "\n",
    "    # calculate time since spray\n",
    "    time_since_spray = traps_weather.at[i,'Date'] - spray['Date']\n",
    "    time.append(time_since_spray)\n",
    "\n",
    "distance = pd.DataFrame(distance)\n",
    "time = pd.DataFrame(time)\n",
    "\n",
    "time.reset_index(inplace=True)\n",
    "time.drop('index',axis=1,inplace=True)"
   ]
  },
  {
   "cell_type": "code",
   "execution_count": null,
   "metadata": {
    "ExecuteTime": {
     "end_time": "2018-03-02T01:43:07.497745Z",
     "start_time": "2018-03-02T01:43:06.492239Z"
    },
    "collapsed": true
   },
   "outputs": [],
   "source": [
    "backup = time.copy()"
   ]
  },
  {
   "cell_type": "code",
   "execution_count": null,
   "metadata": {
    "ExecuteTime": {
     "end_time": "2018-03-02T01:28:40.785021Z",
     "start_time": "2018-03-02T01:28:40.746489Z"
    }
   },
   "outputs": [],
   "source": [
    "distance.head()"
   ]
  },
  {
   "cell_type": "code",
   "execution_count": null,
   "metadata": {
    "ExecuteTime": {
     "end_time": "2018-03-02T01:19:54.005570Z",
     "start_time": "2018-03-02T01:19:53.747521Z"
    }
   },
   "outputs": [],
   "source": [
    "time.head()"
   ]
  },
  {
   "cell_type": "code",
   "execution_count": null,
   "metadata": {
    "ExecuteTime": {
     "start_time": "2018-03-02T01:43:54.446Z"
    }
   },
   "outputs": [],
   "source": [
    "from datetime import timedelta \n",
    "\n",
    "for col in time.columns:\n",
    "    time[col] = time[col].dt.total_seconds()\n",
    "    #time[col] = time[col].apply(lambda x: (((x/60)/60)/24))"
   ]
  },
  {
   "cell_type": "code",
   "execution_count": null,
   "metadata": {
    "ExecuteTime": {
     "end_time": "2018-03-02T00:01:28.355276Z",
     "start_time": "2018-03-01T23:56:06.093Z"
    },
    "collapsed": true
   },
   "outputs": [],
   "source": [
    "time.head()"
   ]
  },
  {
   "cell_type": "code",
   "execution_count": null,
   "metadata": {
    "ExecuteTime": {
     "end_time": "2018-03-01T23:46:04.010569Z",
     "start_time": "2018-03-01T23:46:00.063470Z"
    },
    "collapsed": true
   },
   "outputs": [],
   "source": [
    "data = pd.merge(distance,time,how='inner',left_index=True,right_index=True,suffixes=('_d','_t'))\n",
    "data.shape"
   ]
  },
  {
   "cell_type": "markdown",
   "metadata": {},
   "source": [
    "### Outcome variable(s)"
   ]
  },
  {
   "cell_type": "code",
   "execution_count": null,
   "metadata": {
    "collapsed": true
   },
   "outputs": [],
   "source": [
    "# trim dataset\n",
    "# drop string geographic variables, info encoded in lat/long\n",
    "# drop _s1/_s2 weather variables --> stored after weighted average across distances"
   ]
  },
  {
   "cell_type": "code",
   "execution_count": null,
   "metadata": {
    "collapsed": true
   },
   "outputs": [],
   "source": [
    "from sklearn.model_selection import train_test_split\n",
    "\n",
    "X = data.drop('WnvPresent',axis=1)\n",
    "Y = data[['WnvPresent']]\n",
    "\n",
    "X_train,X_test,y_train,y_test = train_test_split()"
   ]
  },
  {
   "cell_type": "markdown",
   "metadata": {
    "ExecuteTime": {
     "end_time": "2018-03-01T23:48:42.921976Z",
     "start_time": "2018-03-01T23:48:42.896094Z"
    }
   },
   "source": [
    "## Modeling"
   ]
  },
  {
   "cell_type": "markdown",
   "metadata": {},
   "source": [
    "We need to predict when, where, and among which species West Nile Virus will occur\n",
    "In which traps will we observe West Nile Virus?\n",
    "\n",
    "How to define outcome variable?\n",
    "\n",
    "Outcome: WNV 1/0\n",
    "\n",
    "Variable selection:\n",
    "- weather\n",
    "- spray\n",
    "- species\n",
    "- location-based"
   ]
  },
  {
   "cell_type": "code",
   "execution_count": null,
   "metadata": {
    "collapsed": true
   },
   "outputs": [],
   "source": [
    "### Logistic Regression"
   ]
  },
  {
   "cell_type": "code",
   "execution_count": null,
   "metadata": {
    "collapsed": true
   },
   "outputs": [],
   "source": [
    "### KNN"
   ]
  },
  {
   "cell_type": "code",
   "execution_count": null,
   "metadata": {
    "collapsed": true
   },
   "outputs": [],
   "source": [
    "### Random Forest"
   ]
  },
  {
   "cell_type": "code",
   "execution_count": null,
   "metadata": {
    "collapsed": true
   },
   "outputs": [],
   "source": [
    "### ExtraTrees"
   ]
  },
  {
   "cell_type": "code",
   "execution_count": null,
   "metadata": {
    "collapsed": true
   },
   "outputs": [],
   "source": [
    "### Adaboost"
   ]
  },
  {
   "cell_type": "code",
   "execution_count": null,
   "metadata": {
    "collapsed": true
   },
   "outputs": [],
   "source": [
    "### Gradient Boosting"
   ]
  },
  {
   "cell_type": "markdown",
   "metadata": {},
   "source": [
    "predict when, where, which we would expect to see West Nile Virus without intervention\n",
    "without spraying in model, where do the predictions deviate?"
   ]
  },
  {
   "cell_type": "code",
   "execution_count": null,
   "metadata": {
    "collapsed": true
   },
   "outputs": [],
   "source": []
  }
 ],
 "metadata": {
  "kernelspec": {
   "display_name": "Python [conda env:anaconda3]",
   "language": "python",
   "name": "conda-env-anaconda3-py"
  },
  "language_info": {
   "codemirror_mode": {
    "name": "ipython",
    "version": 3
   },
   "file_extension": ".py",
   "mimetype": "text/x-python",
   "name": "python",
   "nbconvert_exporter": "python",
   "pygments_lexer": "ipython3",
   "version": "3.6.4"
  }
 },
 "nbformat": 4,
 "nbformat_minor": 2
}
